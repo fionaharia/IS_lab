{
  "nbformat": 4,
  "nbformat_minor": 0,
  "metadata": {
    "colab": {
      "provenance": []
    },
    "kernelspec": {
      "name": "python3",
      "display_name": "Python 3"
    },
    "language_info": {
      "name": "python"
    }
  },
  "cells": [
    {
      "cell_type": "markdown",
      "source": [
        "# **FIONA HARIA | 60009220048 | D1-2 | D040**"
      ],
      "metadata": {
        "id": "uBZTYShx5ELE"
      }
    },
    {
      "cell_type": "markdown",
      "source": [
        "# **Distance Matrix**"
      ],
      "metadata": {
        "id": "RyLZKrXA3J9T"
      }
    },
    {
      "cell_type": "code",
      "source": [
        "def distance_matrixx(num_cities):\n",
        "    distance_matrix = np.random.randint(1, 100, size=(num_cities, num_cities))\n",
        "    distance_matrix = (distance_matrix + distance_matrix.T) / 2\n",
        "    np.fill_diagonal(distance_matrix, 0)\n",
        "\n",
        "    # Create city labels (optional)\n",
        "    city_labels = [chr(ord('A') + i) for i in range(num_cities)]\n",
        "    df = pd.DataFrame(distance_matrix, index=city_labels, columns=city_labels)\n",
        "    print(f\"Distance Matrix with City Labels ({num_cities} cities):\")\n",
        "    print(df)\n",
        "\n",
        "    return distance_matrix\n",
        "\n",
        "distance_matrixx(20)"
      ],
      "metadata": {
        "colab": {
          "base_uri": "https://localhost:8080/"
        },
        "id": "VYAY3EwqOZ6d",
        "outputId": "17b9a41f-6706-4998-a61f-5c06172657d9"
      },
      "execution_count": 56,
      "outputs": [
        {
          "output_type": "stream",
          "name": "stdout",
          "text": [
            "Distance Matrix with City Labels (20 cities):\n",
            "      A     B     C     D     E     F     G     H     I     J     K     L     M     N     O     P  \\\n",
            "A   0.0  19.5  84.5  44.5  24.0  66.0  51.0  78.0  68.5  36.0  41.0  46.5  77.5  54.5  57.0  34.5   \n",
            "B  19.5   0.0  50.0  63.5  32.5  41.5  37.0  49.5  29.0  65.5  70.0  71.0  43.5  34.5  83.5  63.5   \n",
            "C  84.5  50.0   0.0  65.5  31.5  48.0  73.0  60.5  35.0   9.0  65.0  59.0  55.0  90.5  47.5  55.0   \n",
            "D  44.5  63.5  65.5   0.0  88.0  37.5  40.0  20.5  44.0  52.0  63.0  10.5  78.5   7.5  64.0  31.5   \n",
            "E  24.0  32.5  31.5  88.0   0.0  30.5  38.5  71.0  55.0  19.0  69.0  67.5  49.5  46.5  75.0  69.5   \n",
            "F  66.0  41.5  48.0  37.5  30.5   0.0  68.0  54.5  28.5  41.5  61.0  44.0  40.5  47.0  14.0  43.0   \n",
            "G  51.0  37.0  73.0  40.0  38.5  68.0   0.0  79.0  51.5  53.0  17.5  19.0  61.0  49.0  47.5  51.5   \n",
            "H  78.0  49.5  60.5  20.5  71.0  54.5  79.0   0.0  57.5  53.0  26.0  55.5  32.5  40.0  61.5  39.0   \n",
            "I  68.5  29.0  35.0  44.0  55.0  28.5  51.5  57.5   0.0  51.5  61.0  51.0  47.0  23.5  71.0  59.0   \n",
            "J  36.0  65.5   9.0  52.0  19.0  41.5  53.0  53.0  51.5   0.0  33.0  39.5  53.0  54.0  45.0  73.0   \n",
            "K  41.0  70.0  65.0  63.0  69.0  61.0  17.5  26.0  61.0  33.0   0.0  48.5  29.0  80.5  42.5  37.0   \n",
            "L  46.5  71.0  59.0  10.5  67.5  44.0  19.0  55.5  51.0  39.5  48.5   0.0  20.0  55.5  41.5  54.5   \n",
            "M  77.5  43.5  55.0  78.5  49.5  40.5  61.0  32.5  47.0  53.0  29.0  20.0   0.0  30.0  57.5  27.0   \n",
            "N  54.5  34.5  90.5   7.5  46.5  47.0  49.0  40.0  23.5  54.0  80.5  55.5  30.0   0.0  43.0  69.5   \n",
            "O  57.0  83.5  47.5  64.0  75.0  14.0  47.5  61.5  71.0  45.0  42.5  41.5  57.5  43.0   0.0  66.5   \n",
            "P  34.5  63.5  55.0  31.5  69.5  43.0  51.5  39.0  59.0  73.0  37.0  54.5  27.0  69.5  66.5   0.0   \n",
            "Q  71.5  95.0  70.5  76.0  64.0  37.5  50.5  78.0  69.5  11.0  79.5  31.0  29.5  67.5  56.0  39.0   \n",
            "R  61.0  49.0  48.0  77.0  72.5  37.0  81.5  54.0  40.0   7.0   9.0  59.5  36.5  26.5  77.5  48.0   \n",
            "S  63.5  63.5  25.0  68.0  23.0  67.0  80.5  43.5  52.5  18.0  54.0  52.5  54.0  51.0  54.5  79.0   \n",
            "T  56.5  74.0  65.0  70.0  34.5  95.0  60.5  57.0  28.0  57.0  31.0  56.5  29.0  21.0  52.0  55.5   \n",
            "\n",
            "      Q     R     S     T  \n",
            "A  71.5  61.0  63.5  56.5  \n",
            "B  95.0  49.0  63.5  74.0  \n",
            "C  70.5  48.0  25.0  65.0  \n",
            "D  76.0  77.0  68.0  70.0  \n",
            "E  64.0  72.5  23.0  34.5  \n",
            "F  37.5  37.0  67.0  95.0  \n",
            "G  50.5  81.5  80.5  60.5  \n",
            "H  78.0  54.0  43.5  57.0  \n",
            "I  69.5  40.0  52.5  28.0  \n",
            "J  11.0   7.0  18.0  57.0  \n",
            "K  79.5   9.0  54.0  31.0  \n",
            "L  31.0  59.5  52.5  56.5  \n",
            "M  29.5  36.5  54.0  29.0  \n",
            "N  67.5  26.5  51.0  21.0  \n",
            "O  56.0  77.5  54.5  52.0  \n",
            "P  39.0  48.0  79.0  55.5  \n",
            "Q   0.0  67.5  49.5  50.0  \n",
            "R  67.5   0.0  32.0  86.5  \n",
            "S  49.5  32.0   0.0  35.5  \n",
            "T  50.0  86.5  35.5   0.0  \n"
          ]
        },
        {
          "output_type": "execute_result",
          "data": {
            "text/plain": [
              "array([[ 0. , 19.5, 84.5, 44.5, 24. , 66. , 51. , 78. , 68.5, 36. , 41. ,\n",
              "        46.5, 77.5, 54.5, 57. , 34.5, 71.5, 61. , 63.5, 56.5],\n",
              "       [19.5,  0. , 50. , 63.5, 32.5, 41.5, 37. , 49.5, 29. , 65.5, 70. ,\n",
              "        71. , 43.5, 34.5, 83.5, 63.5, 95. , 49. , 63.5, 74. ],\n",
              "       [84.5, 50. ,  0. , 65.5, 31.5, 48. , 73. , 60.5, 35. ,  9. , 65. ,\n",
              "        59. , 55. , 90.5, 47.5, 55. , 70.5, 48. , 25. , 65. ],\n",
              "       [44.5, 63.5, 65.5,  0. , 88. , 37.5, 40. , 20.5, 44. , 52. , 63. ,\n",
              "        10.5, 78.5,  7.5, 64. , 31.5, 76. , 77. , 68. , 70. ],\n",
              "       [24. , 32.5, 31.5, 88. ,  0. , 30.5, 38.5, 71. , 55. , 19. , 69. ,\n",
              "        67.5, 49.5, 46.5, 75. , 69.5, 64. , 72.5, 23. , 34.5],\n",
              "       [66. , 41.5, 48. , 37.5, 30.5,  0. , 68. , 54.5, 28.5, 41.5, 61. ,\n",
              "        44. , 40.5, 47. , 14. , 43. , 37.5, 37. , 67. , 95. ],\n",
              "       [51. , 37. , 73. , 40. , 38.5, 68. ,  0. , 79. , 51.5, 53. , 17.5,\n",
              "        19. , 61. , 49. , 47.5, 51.5, 50.5, 81.5, 80.5, 60.5],\n",
              "       [78. , 49.5, 60.5, 20.5, 71. , 54.5, 79. ,  0. , 57.5, 53. , 26. ,\n",
              "        55.5, 32.5, 40. , 61.5, 39. , 78. , 54. , 43.5, 57. ],\n",
              "       [68.5, 29. , 35. , 44. , 55. , 28.5, 51.5, 57.5,  0. , 51.5, 61. ,\n",
              "        51. , 47. , 23.5, 71. , 59. , 69.5, 40. , 52.5, 28. ],\n",
              "       [36. , 65.5,  9. , 52. , 19. , 41.5, 53. , 53. , 51.5,  0. , 33. ,\n",
              "        39.5, 53. , 54. , 45. , 73. , 11. ,  7. , 18. , 57. ],\n",
              "       [41. , 70. , 65. , 63. , 69. , 61. , 17.5, 26. , 61. , 33. ,  0. ,\n",
              "        48.5, 29. , 80.5, 42.5, 37. , 79.5,  9. , 54. , 31. ],\n",
              "       [46.5, 71. , 59. , 10.5, 67.5, 44. , 19. , 55.5, 51. , 39.5, 48.5,\n",
              "         0. , 20. , 55.5, 41.5, 54.5, 31. , 59.5, 52.5, 56.5],\n",
              "       [77.5, 43.5, 55. , 78.5, 49.5, 40.5, 61. , 32.5, 47. , 53. , 29. ,\n",
              "        20. ,  0. , 30. , 57.5, 27. , 29.5, 36.5, 54. , 29. ],\n",
              "       [54.5, 34.5, 90.5,  7.5, 46.5, 47. , 49. , 40. , 23.5, 54. , 80.5,\n",
              "        55.5, 30. ,  0. , 43. , 69.5, 67.5, 26.5, 51. , 21. ],\n",
              "       [57. , 83.5, 47.5, 64. , 75. , 14. , 47.5, 61.5, 71. , 45. , 42.5,\n",
              "        41.5, 57.5, 43. ,  0. , 66.5, 56. , 77.5, 54.5, 52. ],\n",
              "       [34.5, 63.5, 55. , 31.5, 69.5, 43. , 51.5, 39. , 59. , 73. , 37. ,\n",
              "        54.5, 27. , 69.5, 66.5,  0. , 39. , 48. , 79. , 55.5],\n",
              "       [71.5, 95. , 70.5, 76. , 64. , 37.5, 50.5, 78. , 69.5, 11. , 79.5,\n",
              "        31. , 29.5, 67.5, 56. , 39. ,  0. , 67.5, 49.5, 50. ],\n",
              "       [61. , 49. , 48. , 77. , 72.5, 37. , 81.5, 54. , 40. ,  7. ,  9. ,\n",
              "        59.5, 36.5, 26.5, 77.5, 48. , 67.5,  0. , 32. , 86.5],\n",
              "       [63.5, 63.5, 25. , 68. , 23. , 67. , 80.5, 43.5, 52.5, 18. , 54. ,\n",
              "        52.5, 54. , 51. , 54.5, 79. , 49.5, 32. ,  0. , 35.5],\n",
              "       [56.5, 74. , 65. , 70. , 34.5, 95. , 60.5, 57. , 28. , 57. , 31. ,\n",
              "        56.5, 29. , 21. , 52. , 55.5, 50. , 86.5, 35.5,  0. ]])"
            ]
          },
          "metadata": {},
          "execution_count": 56
        }
      ]
    },
    {
      "cell_type": "markdown",
      "source": [
        "## generating population matrix"
      ],
      "metadata": {
        "id": "uSEtHYdu_COs"
      }
    },
    {
      "cell_type": "code",
      "execution_count": 57,
      "metadata": {
        "id": "Oud-RCtf4tZM"
      },
      "outputs": [],
      "source": [
        "import numpy as np\n",
        "\n",
        "def generate_population(num_cities, population_size):\n",
        "\n",
        "    population = []\n",
        "    for _ in range(population_size):\n",
        "        tour = np.random.permutation(num_cities)\n",
        "        population.append(tour)\n",
        "    return np.array(population)\n"
      ]
    },
    {
      "cell_type": "markdown",
      "source": [
        "## testing the above"
      ],
      "metadata": {
        "id": "uXcCERci_LIL"
      }
    },
    {
      "cell_type": "code",
      "source": [
        "population_size = 6\n",
        "num_cities = 20\n",
        "population = generate_population(num_cities, population_size)\n",
        "print(\"Generated Population Matrix:\")\n",
        "print(population)"
      ],
      "metadata": {
        "colab": {
          "base_uri": "https://localhost:8080/"
        },
        "id": "CjYcpPtU_N6D",
        "outputId": "b912d3a6-f0ba-4715-823d-943aea864ab1"
      },
      "execution_count": 58,
      "outputs": [
        {
          "output_type": "stream",
          "name": "stdout",
          "text": [
            "Generated Population Matrix:\n",
            "[[ 8 13 14 10  1  3  9  6  2 12 15 19 18 16  7 17  0 11  4  5]\n",
            " [15  9 17 11  3  2  8  4 14  0 10 16 19  1  5 12 18  6  7 13]\n",
            " [ 1  6 11  8 19  7  5 10  4  3 16  0 13 17 15 14 18 12  2  9]\n",
            " [19 18 14  0 11  1  7  8  4 12  2  9 10  6  3 15 16 17 13  5]\n",
            " [13 16  5  0 11  4 15 14 17  7  6  2  3  8 19 12  9  1 10 18]\n",
            " [12  7  0 14  4  2 15 13  6  1 19 10  8  5 18  9 16  3 17 11]]\n"
          ]
        }
      ]
    },
    {
      "cell_type": "markdown",
      "source": [
        "# FITNESS FUNCTION"
      ],
      "metadata": {
        "id": "XnXfZboCFRxj"
      }
    },
    {
      "cell_type": "markdown",
      "source": [
        "## calculating the tour cost"
      ],
      "metadata": {
        "id": "zqrciXwxCqRs"
      }
    },
    {
      "cell_type": "code",
      "source": [
        "def tour_cost(tour, distance_matrix):\n",
        "\n",
        "    cost = 0\n",
        "    for i in range(len(tour) - 1):\n",
        "        cost += distance_matrix[tour[i], tour[i+1]]\n",
        "    cost += distance_matrix[tour[-1], tour[0]]\n",
        "    return cost\n",
        "\n",
        "\n",
        "def calculate_population_cost(population, distance_matrix):\n",
        "    costs = np.array([tour_cost(tour, distance_matrix) for tour in population])\n",
        "    return costs\n"
      ],
      "metadata": {
        "id": "Ni9588Dh_VTM"
      },
      "execution_count": 59,
      "outputs": []
    },
    {
      "cell_type": "markdown",
      "source": [
        "## testing the above"
      ],
      "metadata": {
        "id": "1yM3Qr1nCvxc"
      }
    },
    {
      "cell_type": "code",
      "source": [
        "distance_matrix = np.random.rand(num_cities, num_cities)\n",
        "distance_matrix = (distance_matrix + distance_matrix.T) / 2\n",
        "costs = calculate_population_cost(population, distance_matrix)\n",
        "print(\"Tour Costs:\")\n",
        "print(costs)"
      ],
      "metadata": {
        "colab": {
          "base_uri": "https://localhost:8080/"
        },
        "id": "2GSb8sql_lf7",
        "outputId": "47c78f1b-80c6-46b5-f1a2-ef2994093f22"
      },
      "execution_count": 60,
      "outputs": [
        {
          "output_type": "stream",
          "name": "stdout",
          "text": [
            "Tour Costs:\n",
            "[ 9.45560929  9.42188655  8.74835355  9.01643301  8.77602218 10.45166441]\n"
          ]
        }
      ]
    },
    {
      "cell_type": "markdown",
      "source": [
        "## Roulette Wheel **(Selection)**"
      ],
      "metadata": {
        "id": "3jakUw5hDQE7"
      }
    },
    {
      "cell_type": "code",
      "source": [
        "def roulette_wheel_selection(costs, population):\n",
        "\n",
        "    total_cost = np.sum(costs)\n",
        "    selection_probs = 1 - (costs / total_cost)\n",
        "    selection_probs /= np.sum(selection_probs)\n",
        "\n",
        "    selected_indices = np.random.choice(range(len(population)), size=len(population), p=selection_probs)\n",
        "    selected_population = population[selected_indices]\n",
        "    return selected_population\n",
        "\n"
      ],
      "metadata": {
        "id": "xshP-xDKBsm7"
      },
      "execution_count": 61,
      "outputs": []
    },
    {
      "cell_type": "markdown",
      "source": [
        "## Test the above"
      ],
      "metadata": {
        "id": "vf1BooSRDLYj"
      }
    },
    {
      "cell_type": "code",
      "source": [
        "selected_population = roulette_wheel_selection(costs, population)\n",
        "print(\"Selected Population after Roulette Wheel:\")\n",
        "print(selected_population)\n"
      ],
      "metadata": {
        "colab": {
          "base_uri": "https://localhost:8080/"
        },
        "id": "GwYxpyJGC-nt",
        "outputId": "69b93658-58cf-4a8f-aa4b-1f13926888d3"
      },
      "execution_count": 62,
      "outputs": [
        {
          "output_type": "stream",
          "name": "stdout",
          "text": [
            "Selected Population after Roulette Wheel:\n",
            "[[19 18 14  0 11  1  7  8  4 12  2  9 10  6  3 15 16 17 13  5]\n",
            " [ 1  6 11  8 19  7  5 10  4  3 16  0 13 17 15 14 18 12  2  9]\n",
            " [13 16  5  0 11  4 15 14 17  7  6  2  3  8 19 12  9  1 10 18]\n",
            " [13 16  5  0 11  4 15 14 17  7  6  2  3  8 19 12  9  1 10 18]\n",
            " [19 18 14  0 11  1  7  8  4 12  2  9 10  6  3 15 16 17 13  5]\n",
            " [ 1  6 11  8 19  7  5 10  4  3 16  0 13 17 15 14 18 12  2  9]]\n"
          ]
        }
      ]
    },
    {
      "cell_type": "code",
      "source": [
        "def find_cycle(start, parent1, parent2):\n",
        "    cycle = []\n",
        "    current = start\n",
        "    while current not in cycle:\n",
        "        cycle.append(current)\n",
        "        current = np.where(parent1 == parent2[current])[0][0]\n",
        "    return cycle\n",
        "\n"
      ],
      "metadata": {
        "id": "cJ30sjcRMPMf"
      },
      "execution_count": 63,
      "outputs": []
    },
    {
      "cell_type": "markdown",
      "source": [
        "## CYCLIC CROSSOVER"
      ],
      "metadata": {
        "id": "wxmujXdV9rFE"
      }
    },
    {
      "cell_type": "code",
      "source": [
        "import numpy as np\n",
        "\n",
        "def generate_random_population(num_individuals, num_genes):\n",
        "    return np.array([np.random.permutation(num_genes) for _ in range(num_individuals)])\n",
        "\n",
        "def find_cycle(start, parent1, parent2):\n",
        "    cycle = []\n",
        "    current = start\n",
        "    while current not in cycle:\n",
        "        cycle.append(current)\n",
        "        current = np.where(parent1 == parent2[current])[0][0]\n",
        "    return cycle\n",
        "\n",
        "def cyclic_crossover(parent1, parent2):\n",
        "    child1, child2 = np.copy(parent1), np.copy(parent2)\n",
        "    mask1, mask2 = np.full_like(parent1, False, dtype=bool), np.full_like(parent2, False, dtype=bool)\n",
        "\n",
        "    for i in range(len(parent1)):\n",
        "        if not mask1[i]:\n",
        "            cycle = find_cycle(i, parent1, parent2)\n",
        "            for idx in cycle:\n",
        "                child1[idx], child2[idx] = parent2[idx], parent1[idx]\n",
        "                mask1[idx], mask2[idx] = True, True\n",
        "\n",
        "    return child1, child2\n",
        "\n",
        "def crossover_population(population):\n",
        "    new_population = []\n",
        "    for i in range(0, len(population), 2):\n",
        "        parent1, parent2 = population[i], population[i+1]\n",
        "        child1, child2 = cyclic_crossover(parent1, parent2)\n",
        "        new_population.extend([child1, child2])\n",
        "    return np.array(new_population)\n",
        "\n",
        "\n"
      ],
      "metadata": {
        "id": "CPq33yM4MccO"
      },
      "execution_count": 64,
      "outputs": []
    },
    {
      "cell_type": "markdown",
      "source": [
        "## TESTING THE ABOVE"
      ],
      "metadata": {
        "id": "Lm1M9lRh_yhL"
      }
    },
    {
      "cell_type": "code",
      "source": [
        "#Generate random population\n",
        "np.random.seed(42)\n",
        "num_individuals = 6\n",
        "num_genes = 20\n",
        "population = generate_random_population(num_individuals, num_genes)\n",
        "\n",
        "# Print initial population\n",
        "print(\"Initial Population:\")\n",
        "print(population)\n",
        "\n",
        "# Perform crossover\n",
        "crossed_population = crossover_population(population)\n",
        "\n",
        "# Print population after first iteration of crossover\n",
        "print(\"\\nPopulation after Cyclic Crossover:\")\n",
        "print(crossed_population)"
      ],
      "metadata": {
        "colab": {
          "base_uri": "https://localhost:8080/"
        },
        "id": "z8ZLNrY8_uwl",
        "outputId": "68d9d85d-97c3-4f55-afb0-b136277a5af9"
      },
      "execution_count": 65,
      "outputs": [
        {
          "output_type": "stream",
          "name": "stdout",
          "text": [
            "Initial Population:\n",
            "[[ 0 17 15  1  8  5 11  3 18 16 13  2  9 19  4 12  7 10 14  6]\n",
            " [19 16 15  5  4 12 14  7  3  6  2  9 13 10 18  8 17 11  0  1]\n",
            " [10  7  0  2  5 18 16 12  4 14 15  9  1 13 11 19  3 17  6  8]\n",
            " [ 0 18  6  8 17 11  4  9 12 10  5 19 15  7  1  3 16 13  2 14]\n",
            " [ 5  2 10 19  0 12  9 16  1  4 17  8 11  6 18  7 14 15 13  3]\n",
            " [ 3  1  4  5 15 16  9 10 13  2 18 19 11 17  7  8  6  0 12 14]]\n",
            "\n",
            "Population after Cyclic Crossover:\n",
            "[[19 16 15  5  4 12 14  7  3  6  2  9 13 10 18  8 17 11  0  1]\n",
            " [ 0 17 15  1  8  5 11  3 18 16 13  2  9 19  4 12  7 10 14  6]\n",
            " [ 0 18  6  8 17 11  4  9 12 10  5 19 15  7  1  3 16 13  2 14]\n",
            " [10  7  0  2  5 18 16 12  4 14 15  9  1 13 11 19  3 17  6  8]\n",
            " [ 3  1  4  5 15 16  9 10 13  2 18 19 11 17  7  8  6  0 12 14]\n",
            " [ 5  2 10 19  0 12  9 16  1  4 17  8 11  6 18  7 14 15 13  3]]\n"
          ]
        }
      ]
    },
    {
      "cell_type": "markdown",
      "source": [
        "## MUTATION"
      ],
      "metadata": {
        "id": "uforug-X_lHz"
      }
    },
    {
      "cell_type": "code",
      "source": [
        "def mutate(tour, mutation_rate=0.1):\n",
        "    for _ in range(int(len(tour) * mutation_rate)):\n",
        "        i, j = np.random.randint(0, len(tour), 2)\n",
        "        tour[i], tour[j] = tour[j], tour[i]\n",
        "    return tour\n",
        "\n",
        "def mutate_population(population, mutation_rate=0.1):\n",
        "    for i in range(len(population)):\n",
        "        population[i] = mutate(population[i], mutation_rate)\n",
        "    return population\n",
        "\n",
        "\n"
      ],
      "metadata": {
        "id": "QvlJyerK9n3o"
      },
      "execution_count": 66,
      "outputs": []
    },
    {
      "cell_type": "markdown",
      "source": [
        "## testing the above"
      ],
      "metadata": {
        "id": "Dl1q77Rz_4n-"
      }
    },
    {
      "cell_type": "code",
      "source": [
        "mutated_population = mutate_population(crossed_population)\n",
        "print(\"Population after Mutation:\")\n",
        "print(mutated_population)"
      ],
      "metadata": {
        "colab": {
          "base_uri": "https://localhost:8080/"
        },
        "id": "EGm6ada9_32a",
        "outputId": "3a4d162a-bbcd-4234-88b6-d98013c996e2"
      },
      "execution_count": 67,
      "outputs": [
        {
          "output_type": "stream",
          "name": "stdout",
          "text": [
            "Population after Mutation:\n",
            "[[19 16 15  5  4 12 14  7  3  6  2  9 13 10 18  8 17 11  0  1]\n",
            " [17  0 15  1  8  5 11  2 18 16 13  3  9 19  4 12  7 10 14  6]\n",
            " [ 0 18 19  8  3 11  4  9 12 10  5  6 15  7  1 17 16 13  2 14]\n",
            " [12  7 10  2  5 18 16  0  4 14 15  9  1 13 11 19  3 17  6  8]\n",
            " [ 3  1 17  5  7 16  9 10 13  2 18 19 11  4 15  8  6  0 12 14]\n",
            " [ 0  2 10 19  5 12  6 16  1  4 17  8 11  9 18  7 14 15 13  3]]\n"
          ]
        }
      ]
    },
    {
      "cell_type": "markdown",
      "source": [
        "## CODE FOR GENETIC ALGORITHM"
      ],
      "metadata": {
        "id": "B1u_IcOv_hQi"
      }
    },
    {
      "cell_type": "code",
      "source": [
        "def genetic_algorithm(num_cities, population_size, num_iterations, distance_matrix, mutation_rate=0.1):\n",
        "    population = generate_population(num_cities, population_size)\n",
        "    for iteration in range(1, num_iterations + 1):\n",
        "        costs = calculate_population_cost(population, distance_matrix)\n",
        "        selected_population = roulette_wheel_selection(costs, population)\n",
        "        crossed_population = crossover_population(selected_population)\n",
        "        population = mutate_population(crossed_population, mutation_rate)\n",
        "\n",
        "        # Convergence check\n",
        "        min_cost = np.min(costs)\n",
        "        print(f\"Iteration {iteration}: Minimum Tour Cost = {min_cost}\")\n",
        "\n",
        "        if iteration > 1 and np.isclose(min_cost, prev_min_cost, atol=1e-4):\n",
        "            print(f\"Algorithm converged at iteration {iteration}\")\n",
        "            break\n",
        "\n",
        "        prev_min_cost = min_cost\n",
        "\n",
        "    return population, min_cost\n",
        "\n",
        "# Test the full Genetic Algorithm\n",
        "num_iterations = 100\n",
        "final_population, final_cost = genetic_algorithm(num_cities, population_size, num_iterations, distance_matrix)\n",
        "print(\"Final Population and Cost after Convergence:\")\n",
        "print(final_population)\n",
        "print(final_cost)\n"
      ],
      "metadata": {
        "colab": {
          "base_uri": "https://localhost:8080/"
        },
        "id": "gGyYOhpr_a-F",
        "outputId": "e764b68a-3a16-4f4e-ace8-f0cf4a703484"
      },
      "execution_count": 68,
      "outputs": [
        {
          "output_type": "stream",
          "name": "stdout",
          "text": [
            "Iteration 1: Minimum Tour Cost = 8.693623958539805\n",
            "Iteration 2: Minimum Tour Cost = 8.901943956180864\n",
            "Iteration 3: Minimum Tour Cost = 8.935760470889988\n",
            "Iteration 4: Minimum Tour Cost = 9.923152878286064\n",
            "Iteration 5: Minimum Tour Cost = 8.489758289016887\n",
            "Iteration 6: Minimum Tour Cost = 8.842199463370497\n",
            "Iteration 7: Minimum Tour Cost = 8.161409882643454\n",
            "Iteration 8: Minimum Tour Cost = 7.760593905815168\n",
            "Iteration 9: Minimum Tour Cost = 9.314594202150777\n",
            "Iteration 10: Minimum Tour Cost = 8.517082138417912\n",
            "Iteration 11: Minimum Tour Cost = 8.11295499594707\n",
            "Iteration 12: Minimum Tour Cost = 7.6357510916444165\n",
            "Iteration 13: Minimum Tour Cost = 7.1730525249043895\n",
            "Iteration 14: Minimum Tour Cost = 7.062168062123763\n",
            "Iteration 15: Minimum Tour Cost = 8.185354526645174\n",
            "Iteration 16: Minimum Tour Cost = 8.168487333730795\n",
            "Iteration 17: Minimum Tour Cost = 9.01286449328215\n",
            "Iteration 18: Minimum Tour Cost = 9.413339751784283\n",
            "Iteration 19: Minimum Tour Cost = 8.818721370578416\n",
            "Iteration 20: Minimum Tour Cost = 8.865191161726267\n",
            "Iteration 21: Minimum Tour Cost = 8.937616293106812\n",
            "Iteration 22: Minimum Tour Cost = 8.460558299707609\n",
            "Iteration 23: Minimum Tour Cost = 9.864041890425638\n",
            "Iteration 24: Minimum Tour Cost = 8.578028241182087\n",
            "Iteration 25: Minimum Tour Cost = 9.875992848374278\n",
            "Iteration 26: Minimum Tour Cost = 9.643588662401417\n",
            "Iteration 27: Minimum Tour Cost = 8.873111808126959\n",
            "Iteration 28: Minimum Tour Cost = 8.158951378358664\n",
            "Iteration 29: Minimum Tour Cost = 8.363238778714766\n",
            "Iteration 30: Minimum Tour Cost = 8.176260436889432\n",
            "Iteration 31: Minimum Tour Cost = 8.820080053215573\n",
            "Iteration 32: Minimum Tour Cost = 9.334418580383195\n",
            "Iteration 33: Minimum Tour Cost = 7.974062827843753\n",
            "Iteration 34: Minimum Tour Cost = 8.580577096771757\n",
            "Iteration 35: Minimum Tour Cost = 8.823193912466012\n",
            "Iteration 36: Minimum Tour Cost = 8.810101751320637\n",
            "Iteration 37: Minimum Tour Cost = 8.047350151595062\n",
            "Iteration 38: Minimum Tour Cost = 8.98925127673731\n",
            "Iteration 39: Minimum Tour Cost = 8.84557014226226\n",
            "Iteration 40: Minimum Tour Cost = 9.36978551198575\n",
            "Iteration 41: Minimum Tour Cost = 9.227727215457357\n",
            "Iteration 42: Minimum Tour Cost = 9.283861947379219\n",
            "Iteration 43: Minimum Tour Cost = 9.222701669804893\n",
            "Iteration 44: Minimum Tour Cost = 8.62509550413637\n",
            "Iteration 45: Minimum Tour Cost = 7.752354739344033\n",
            "Iteration 46: Minimum Tour Cost = 8.556208633454393\n",
            "Iteration 47: Minimum Tour Cost = 8.732252652135722\n",
            "Iteration 48: Minimum Tour Cost = 8.785154031217614\n",
            "Iteration 49: Minimum Tour Cost = 8.805897909529241\n",
            "Iteration 50: Minimum Tour Cost = 9.573732727319108\n",
            "Iteration 51: Minimum Tour Cost = 9.743664362341214\n",
            "Iteration 52: Minimum Tour Cost = 8.19322044622631\n",
            "Iteration 53: Minimum Tour Cost = 9.410703143856182\n",
            "Iteration 54: Minimum Tour Cost = 9.169093828357926\n",
            "Iteration 55: Minimum Tour Cost = 9.192506535421\n",
            "Iteration 56: Minimum Tour Cost = 7.887297993106806\n",
            "Iteration 57: Minimum Tour Cost = 7.474933340229124\n",
            "Iteration 58: Minimum Tour Cost = 6.782554561971678\n",
            "Iteration 59: Minimum Tour Cost = 7.806141590293227\n",
            "Iteration 60: Minimum Tour Cost = 7.784886305699142\n",
            "Iteration 61: Minimum Tour Cost = 9.532707875047896\n",
            "Iteration 62: Minimum Tour Cost = 9.295567806806485\n",
            "Iteration 63: Minimum Tour Cost = 8.35458100796793\n",
            "Iteration 64: Minimum Tour Cost = 8.107405266060121\n",
            "Iteration 65: Minimum Tour Cost = 8.65830306714772\n",
            "Iteration 66: Minimum Tour Cost = 9.093418074598517\n",
            "Iteration 67: Minimum Tour Cost = 8.791779729694245\n",
            "Iteration 68: Minimum Tour Cost = 9.328231024328893\n",
            "Iteration 69: Minimum Tour Cost = 9.253648606348298\n",
            "Iteration 70: Minimum Tour Cost = 8.823128024139217\n",
            "Iteration 71: Minimum Tour Cost = 8.447269372421523\n",
            "Iteration 72: Minimum Tour Cost = 7.805345376694667\n",
            "Iteration 73: Minimum Tour Cost = 7.972272368157338\n",
            "Iteration 74: Minimum Tour Cost = 8.76057316916106\n",
            "Iteration 75: Minimum Tour Cost = 7.803746480670748\n",
            "Iteration 76: Minimum Tour Cost = 8.2649577444087\n",
            "Iteration 77: Minimum Tour Cost = 8.410581515759114\n",
            "Iteration 78: Minimum Tour Cost = 8.697740403541939\n",
            "Iteration 79: Minimum Tour Cost = 8.800345161216798\n",
            "Iteration 80: Minimum Tour Cost = 8.23175155328435\n",
            "Iteration 81: Minimum Tour Cost = 8.566074158979426\n",
            "Iteration 82: Minimum Tour Cost = 8.364437544603568\n",
            "Iteration 83: Minimum Tour Cost = 8.053610780037214\n",
            "Iteration 84: Minimum Tour Cost = 8.36608483216067\n",
            "Iteration 85: Minimum Tour Cost = 7.558931914193324\n",
            "Iteration 86: Minimum Tour Cost = 9.335972120778356\n",
            "Iteration 87: Minimum Tour Cost = 9.292822244597517\n",
            "Iteration 88: Minimum Tour Cost = 9.04783163249188\n",
            "Iteration 89: Minimum Tour Cost = 8.7495342941966\n",
            "Iteration 90: Minimum Tour Cost = 8.403165869912566\n",
            "Iteration 91: Minimum Tour Cost = 8.559491849706585\n",
            "Iteration 92: Minimum Tour Cost = 8.533839007295281\n",
            "Iteration 93: Minimum Tour Cost = 7.855230859735166\n",
            "Iteration 94: Minimum Tour Cost = 9.158094800641875\n",
            "Iteration 95: Minimum Tour Cost = 9.264902200670337\n",
            "Iteration 96: Minimum Tour Cost = 8.69593758903838\n",
            "Iteration 97: Minimum Tour Cost = 9.47600618779039\n",
            "Iteration 98: Minimum Tour Cost = 9.899223960162413\n",
            "Iteration 99: Minimum Tour Cost = 10.17636211339654\n",
            "Iteration 100: Minimum Tour Cost = 9.085326707665049\n",
            "Final Population and Cost after Convergence:\n",
            "[[ 4 17  2 14  6 15  7 13 19  8  3 10  9 16  0  1 12  5 18 11]\n",
            " [15 17  2 14  6  4  7 10 19  8  3 13  9 16 12 11  0  5 18  1]\n",
            " [ 3 17  2  4  9 11  7 13 14 10 15  0  6  8 16 19 12  5 18  1]\n",
            " [ 8  7  2 14 17  5  3 11  1  0 16 10 15 13 18  4 19  9  6 12]\n",
            " [15 17  2 14  6  4  1 13 19  8  3 11  9 16  0 10 12  5 18  7]\n",
            " [11  7 13 15  5 18 12  3  8  0 10  1 16  2 19 14 17  4  9  6]]\n",
            "9.085326707665049\n"
          ]
        }
      ]
    },
    {
      "cell_type": "code",
      "source": [
        "def run_ga_for_city_sizes():\n",
        "    city_sizes = [5, 10, 20, 40]  # List of city sizes\n",
        "    population_size = 50\n",
        "    num_iterations = 100\n",
        "    mutation_rate = 0.1\n",
        "    results = {}\n",
        "\n",
        "    for num_cities in city_sizes:\n",
        "        print(f\"\\nRunning Genetic Algorithm for {num_cities} cities:\\n\")\n",
        "\n",
        "        # Generate distance matrix for the current number of cities\n",
        "        distance_matrix = distance_matrixx(num_cities)\n",
        "\n",
        "        # Run the genetic algorithm and store the results\n",
        "        final_population, final_cost = genetic_algorithm(num_cities, population_size, num_iterations, distance_matrix, mutation_rate)\n",
        "        results[num_cities] = final_cost\n",
        "        print(f\"Final minimum cost for {num_cities} cities: {final_cost}\")\n",
        "\n",
        "    # Summary of results\n",
        "    print(\"\\nSummary of results:\")\n",
        "    for num_cities, final_cost in results.items():\n",
        "        print(f\"{num_cities} cities: Final minimum cost = {final_cost}\")\n",
        "\n",
        "run_ga_for_city_sizes()"
      ],
      "metadata": {
        "colab": {
          "base_uri": "https://localhost:8080/"
        },
        "id": "S5HDvee2M3H8",
        "outputId": "71325375-e054-4e41-c1fd-70a63c2eb953"
      },
      "execution_count": 71,
      "outputs": [
        {
          "output_type": "stream",
          "name": "stdout",
          "text": [
            "\n",
            "Running Genetic Algorithm for 5 cities:\n",
            "\n",
            "Distance Matrix with City Labels (5 cities):\n",
            "      A     B     C     D     E\n",
            "A   0.0  67.0  85.5  55.0  63.5\n",
            "B  67.0   0.0  86.5  17.5  37.0\n",
            "C  85.5  86.5   0.0  54.0  48.0\n",
            "D  55.0  17.5  54.0   0.0  57.0\n",
            "E  63.5  37.0  48.0  57.0   0.0\n",
            "Iteration 1: Minimum Tour Cost = 243.0\n",
            "Iteration 2: Minimum Tour Cost = 243.0\n",
            "Algorithm converged at iteration 2\n",
            "Final minimum cost for 5 cities: 243.0\n",
            "\n",
            "Running Genetic Algorithm for 10 cities:\n",
            "\n",
            "Distance Matrix with City Labels (10 cities):\n",
            "      A     B     C     D     E     F     G     H     I     J\n",
            "A   0.0  29.5  44.5  59.0  76.5  22.5  42.0  59.0  43.0  45.0\n",
            "B  29.5   0.0  44.5  59.0  41.5  36.0  48.5  18.5  67.0  66.5\n",
            "C  44.5  44.5   0.0  26.5  50.0  68.5  33.5  29.0  48.0  29.5\n",
            "D  59.0  59.0  26.5   0.0   4.0  47.5  67.0  64.5  85.5  67.5\n",
            "E  76.5  41.5  50.0   4.0   0.0  57.0  45.0  77.5  69.5  52.0\n",
            "F  22.5  36.0  68.5  47.5  57.0   0.0  51.5  45.0  29.5  56.5\n",
            "G  42.0  48.5  33.5  67.0  45.0  51.5   0.0  51.0  54.5  42.5\n",
            "H  59.0  18.5  29.0  64.5  77.5  45.0  51.0   0.0  37.0  62.0\n",
            "I  43.0  67.0  48.0  85.5  69.5  29.5  54.5  37.0   0.0  71.5\n",
            "J  45.0  66.5  29.5  67.5  52.0  56.5  42.5  62.0  71.5   0.0\n",
            "Iteration 1: Minimum Tour Cost = 409.0\n",
            "Iteration 2: Minimum Tour Cost = 400.5\n",
            "Iteration 3: Minimum Tour Cost = 368.5\n",
            "Iteration 4: Minimum Tour Cost = 384.0\n",
            "Iteration 5: Minimum Tour Cost = 343.5\n",
            "Iteration 6: Minimum Tour Cost = 356.5\n",
            "Iteration 7: Minimum Tour Cost = 352.0\n",
            "Iteration 8: Minimum Tour Cost = 383.0\n",
            "Iteration 9: Minimum Tour Cost = 375.0\n",
            "Iteration 10: Minimum Tour Cost = 342.0\n",
            "Iteration 11: Minimum Tour Cost = 386.0\n",
            "Iteration 12: Minimum Tour Cost = 386.0\n",
            "Algorithm converged at iteration 12\n",
            "Final minimum cost for 10 cities: 386.0\n",
            "\n",
            "Running Genetic Algorithm for 20 cities:\n",
            "\n",
            "Distance Matrix with City Labels (20 cities):\n",
            "      A     B     C     D     E     F     G     H     I     J     K     L     M     N     O     P  \\\n",
            "A   0.0  94.0  51.5  53.5  34.0  84.0  59.5  23.5  37.0  45.0  56.5  74.0  29.5  58.0  38.5  82.0   \n",
            "B  94.0   0.0  37.5  44.5  59.0  15.0  60.5  80.0  50.0  52.5  26.5  27.0  54.5  61.0  36.5  68.5   \n",
            "C  51.5  37.5   0.0  72.0  55.5  42.5  41.0  51.5  59.5  62.5  43.0  52.5  71.5  42.0  93.0  46.0   \n",
            "D  53.5  44.5  72.0   0.0  35.0  65.0  70.5  52.0  48.5  41.0  61.0  35.0  58.5  67.5  64.5  33.5   \n",
            "E  34.0  59.0  55.5  35.0   0.0  39.0  48.5  38.5  43.5  90.5  82.0  63.0  45.5  65.5  45.5  47.5   \n",
            "F  84.0  15.0  42.5  65.0  39.0   0.0  64.0  40.5  24.5  53.5  20.5  67.0  37.5  55.0  46.5  55.5   \n",
            "G  59.5  60.5  41.0  70.5  48.5  64.0   0.0  54.5  57.0  68.5  35.0  27.5  57.5  22.0  47.0  28.5   \n",
            "H  23.5  80.0  51.5  52.0  38.5  40.5  54.5   0.0  21.0  38.0  55.0  28.0  63.0  44.0  70.0  59.5   \n",
            "I  37.0  50.0  59.5  48.5  43.5  24.5  57.0  21.0   0.0  51.0  43.5  48.5  70.5  59.0  30.0  49.5   \n",
            "J  45.0  52.5  62.5  41.0  90.5  53.5  68.5  38.0  51.0   0.0  64.5  93.5  32.5  54.5  31.0  56.5   \n",
            "K  56.5  26.5  43.0  61.0  82.0  20.5  35.0  55.0  43.5  64.5   0.0  77.0  82.0  39.5  48.5  32.0   \n",
            "L  74.0  27.0  52.5  35.0  63.0  67.0  27.5  28.0  48.5  93.5  77.0   0.0  42.0  39.5  49.0  60.0   \n",
            "M  29.5  54.5  71.5  58.5  45.5  37.5  57.5  63.0  70.5  32.5  82.0  42.0   0.0  77.0  38.0  25.5   \n",
            "N  58.0  61.0  42.0  67.5  65.5  55.0  22.0  44.0  59.0  54.5  39.5  39.5  77.0   0.0  79.0  23.5   \n",
            "O  38.5  36.5  93.0  64.5  45.5  46.5  47.0  70.0  30.0  31.0  48.5  49.0  38.0  79.0   0.0  22.0   \n",
            "P  82.0  68.5  46.0  33.5  47.5  55.5  28.5  59.5  49.5  56.5  32.0  60.0  25.5  23.5  22.0   0.0   \n",
            "Q  37.0  34.0  77.5  48.0   8.0  58.0  67.0  56.5   9.5  59.5  19.5  15.5  85.5  52.0  55.5  91.5   \n",
            "R  69.5   6.5  27.5  50.0  66.5  96.0  82.0  29.0  53.5  53.5  91.0  66.0  39.5  55.5  69.0  57.0   \n",
            "S  88.5  76.0  53.5  19.5  50.0  82.5   8.0  70.5  33.5  37.0  54.5  61.5  45.0  35.5  63.0  82.0   \n",
            "T  34.0  37.5  61.5  78.5  62.5  29.5  49.5  48.5  52.5  42.5  45.5  56.5  62.0  36.5  42.0  59.5   \n",
            "\n",
            "      Q     R     S     T  \n",
            "A  37.0  69.5  88.5  34.0  \n",
            "B  34.0   6.5  76.0  37.5  \n",
            "C  77.5  27.5  53.5  61.5  \n",
            "D  48.0  50.0  19.5  78.5  \n",
            "E   8.0  66.5  50.0  62.5  \n",
            "F  58.0  96.0  82.5  29.5  \n",
            "G  67.0  82.0   8.0  49.5  \n",
            "H  56.5  29.0  70.5  48.5  \n",
            "I   9.5  53.5  33.5  52.5  \n",
            "J  59.5  53.5  37.0  42.5  \n",
            "K  19.5  91.0  54.5  45.5  \n",
            "L  15.5  66.0  61.5  56.5  \n",
            "M  85.5  39.5  45.0  62.0  \n",
            "N  52.0  55.5  35.5  36.5  \n",
            "O  55.5  69.0  63.0  42.0  \n",
            "P  91.5  57.0  82.0  59.5  \n",
            "Q   0.0  31.5  21.0  81.0  \n",
            "R  31.5   0.0  40.5  47.5  \n",
            "S  21.0  40.5   0.0  44.0  \n",
            "T  81.0  47.5  44.0   0.0  \n",
            "Iteration 1: Minimum Tour Cost = 840.0\n",
            "Iteration 2: Minimum Tour Cost = 700.5\n",
            "Iteration 3: Minimum Tour Cost = 772.5\n",
            "Iteration 4: Minimum Tour Cost = 844.0\n",
            "Iteration 5: Minimum Tour Cost = 840.5\n",
            "Iteration 6: Minimum Tour Cost = 817.0\n",
            "Iteration 7: Minimum Tour Cost = 813.0\n",
            "Iteration 8: Minimum Tour Cost = 834.0\n",
            "Iteration 9: Minimum Tour Cost = 860.5\n",
            "Iteration 10: Minimum Tour Cost = 846.5\n",
            "Iteration 11: Minimum Tour Cost = 798.5\n",
            "Iteration 12: Minimum Tour Cost = 782.0\n",
            "Iteration 13: Minimum Tour Cost = 767.0\n",
            "Iteration 14: Minimum Tour Cost = 849.5\n",
            "Iteration 15: Minimum Tour Cost = 856.0\n",
            "Iteration 16: Minimum Tour Cost = 830.0\n",
            "Iteration 17: Minimum Tour Cost = 881.5\n",
            "Iteration 18: Minimum Tour Cost = 817.5\n",
            "Iteration 19: Minimum Tour Cost = 757.5\n",
            "Iteration 20: Minimum Tour Cost = 821.0\n",
            "Iteration 21: Minimum Tour Cost = 751.5\n",
            "Iteration 22: Minimum Tour Cost = 812.5\n",
            "Iteration 23: Minimum Tour Cost = 811.5\n",
            "Iteration 24: Minimum Tour Cost = 858.5\n",
            "Iteration 25: Minimum Tour Cost = 857.0\n",
            "Iteration 26: Minimum Tour Cost = 884.5\n",
            "Iteration 27: Minimum Tour Cost = 863.5\n",
            "Iteration 28: Minimum Tour Cost = 798.5\n",
            "Iteration 29: Minimum Tour Cost = 880.0\n",
            "Iteration 30: Minimum Tour Cost = 914.0\n",
            "Iteration 31: Minimum Tour Cost = 862.5\n",
            "Iteration 32: Minimum Tour Cost = 889.5\n",
            "Iteration 33: Minimum Tour Cost = 814.5\n",
            "Iteration 34: Minimum Tour Cost = 874.0\n",
            "Iteration 35: Minimum Tour Cost = 873.5\n",
            "Iteration 36: Minimum Tour Cost = 903.0\n",
            "Iteration 37: Minimum Tour Cost = 871.5\n",
            "Iteration 38: Minimum Tour Cost = 867.5\n",
            "Iteration 39: Minimum Tour Cost = 856.0\n",
            "Iteration 40: Minimum Tour Cost = 810.5\n",
            "Iteration 41: Minimum Tour Cost = 809.5\n",
            "Iteration 42: Minimum Tour Cost = 816.0\n",
            "Iteration 43: Minimum Tour Cost = 836.0\n",
            "Iteration 44: Minimum Tour Cost = 879.5\n",
            "Iteration 45: Minimum Tour Cost = 856.5\n",
            "Iteration 46: Minimum Tour Cost = 804.0\n",
            "Iteration 47: Minimum Tour Cost = 826.0\n",
            "Iteration 48: Minimum Tour Cost = 844.0\n",
            "Iteration 49: Minimum Tour Cost = 812.0\n",
            "Iteration 50: Minimum Tour Cost = 865.5\n",
            "Iteration 51: Minimum Tour Cost = 828.0\n",
            "Iteration 52: Minimum Tour Cost = 792.0\n",
            "Iteration 53: Minimum Tour Cost = 888.0\n",
            "Iteration 54: Minimum Tour Cost = 840.5\n",
            "Iteration 55: Minimum Tour Cost = 838.5\n",
            "Iteration 56: Minimum Tour Cost = 795.0\n",
            "Iteration 57: Minimum Tour Cost = 799.5\n",
            "Iteration 58: Minimum Tour Cost = 822.5\n",
            "Iteration 59: Minimum Tour Cost = 847.0\n",
            "Iteration 60: Minimum Tour Cost = 821.0\n",
            "Iteration 61: Minimum Tour Cost = 838.5\n",
            "Iteration 62: Minimum Tour Cost = 787.5\n",
            "Iteration 63: Minimum Tour Cost = 845.0\n",
            "Iteration 64: Minimum Tour Cost = 863.5\n",
            "Iteration 65: Minimum Tour Cost = 887.5\n",
            "Iteration 66: Minimum Tour Cost = 882.0\n",
            "Iteration 67: Minimum Tour Cost = 905.5\n",
            "Iteration 68: Minimum Tour Cost = 870.5\n",
            "Iteration 69: Minimum Tour Cost = 868.5\n",
            "Iteration 70: Minimum Tour Cost = 848.5\n",
            "Iteration 71: Minimum Tour Cost = 829.0\n",
            "Iteration 72: Minimum Tour Cost = 841.0\n",
            "Iteration 73: Minimum Tour Cost = 808.0\n",
            "Iteration 74: Minimum Tour Cost = 871.5\n",
            "Iteration 75: Minimum Tour Cost = 888.0\n",
            "Iteration 76: Minimum Tour Cost = 895.5\n",
            "Iteration 77: Minimum Tour Cost = 915.0\n",
            "Iteration 78: Minimum Tour Cost = 930.0\n",
            "Iteration 79: Minimum Tour Cost = 826.0\n",
            "Iteration 80: Minimum Tour Cost = 853.0\n",
            "Iteration 81: Minimum Tour Cost = 816.5\n",
            "Iteration 82: Minimum Tour Cost = 863.5\n",
            "Iteration 83: Minimum Tour Cost = 817.5\n",
            "Iteration 84: Minimum Tour Cost = 870.5\n",
            "Iteration 85: Minimum Tour Cost = 881.5\n",
            "Iteration 86: Minimum Tour Cost = 863.5\n",
            "Iteration 87: Minimum Tour Cost = 914.0\n",
            "Iteration 88: Minimum Tour Cost = 856.5\n",
            "Iteration 89: Minimum Tour Cost = 775.0\n",
            "Iteration 90: Minimum Tour Cost = 903.0\n",
            "Iteration 91: Minimum Tour Cost = 865.0\n",
            "Iteration 92: Minimum Tour Cost = 882.5\n",
            "Iteration 93: Minimum Tour Cost = 794.5\n",
            "Iteration 94: Minimum Tour Cost = 811.5\n",
            "Iteration 95: Minimum Tour Cost = 825.0\n",
            "Iteration 96: Minimum Tour Cost = 783.0\n",
            "Iteration 97: Minimum Tour Cost = 734.0\n",
            "Iteration 98: Minimum Tour Cost = 781.0\n",
            "Iteration 99: Minimum Tour Cost = 889.0\n",
            "Iteration 100: Minimum Tour Cost = 825.5\n",
            "Final minimum cost for 20 cities: 825.5\n",
            "\n",
            "Running Genetic Algorithm for 40 cities:\n",
            "\n",
            "Distance Matrix with City Labels (40 cities):\n",
            "      A     B     C     D     E     F     G     H     I     J     K     L     M     N     O     P  \\\n",
            "A   0.0  31.5  41.0  59.0  47.0  71.5  27.5  67.5  19.0  19.5  80.0  35.5  63.5  35.0  31.5  73.5   \n",
            "B  31.5   0.0  60.0  24.0  48.0  51.5  68.0  34.5  52.5  52.5  40.5  44.5  51.5  42.5  44.5  33.0   \n",
            "C  41.0  60.0   0.0  66.0  96.5  61.5  18.5  25.5  56.0  57.0  29.5  44.5  71.0  80.0  63.0  80.5   \n",
            "D  59.0  24.0  66.0   0.0  60.0  47.5  53.0  50.5  91.0  50.5  43.5  37.0  32.5  63.0  62.5  62.0   \n",
            "E  47.0  48.0  96.5  60.0   0.0  59.0  26.0  29.0  14.0  19.5  83.0  61.0  67.0  38.5  54.5  64.5   \n",
            "F  71.5  51.5  61.5  47.5  59.0   0.0  50.0  71.0  47.0  60.0  55.5  35.0  24.0  36.5  70.5  32.0   \n",
            "G  27.5  68.0  18.5  53.0  26.0  50.0   0.0  55.0  62.5  34.5  12.5  64.0  53.5  57.5  32.5  45.5   \n",
            "H  67.5  34.5  25.5  50.5  29.0  71.0  55.0   0.0  44.5  34.0  55.5  77.0  67.5  29.5  68.5  68.0   \n",
            "I  19.0  52.5  56.0  91.0  14.0  47.0  62.5  44.5   0.0  68.5  46.5  71.5  86.5  71.0  34.0  40.5   \n",
            "J  19.5  52.5  57.0  50.5  19.5  60.0  34.5  34.0  68.5   0.0  49.5  58.0  65.5  60.5  49.5  23.0   \n",
            "K  80.0  40.5  29.5  43.5  83.0  55.5  12.5  55.5  46.5  49.5   0.0  56.5  22.5  16.0  52.0   4.0   \n",
            "L  35.5  44.5  44.5  37.0  61.0  35.0  64.0  77.0  71.5  58.0  56.5   0.0  52.5  21.5  29.5  60.5   \n",
            "M  63.5  51.5  71.0  32.5  67.0  24.0  53.5  67.5  86.5  65.5  22.5  52.5   0.0  27.5  56.0  49.5   \n",
            "N  35.0  42.5  80.0  63.0  38.5  36.5  57.5  29.5  71.0  60.5  16.0  21.5  27.5   0.0  43.0  39.0   \n",
            "O  31.5  44.5  63.0  62.5  54.5  70.5  32.5  68.5  34.0  49.5  52.0  29.5  56.0  43.0   0.0  62.0   \n",
            "P  73.5  33.0  80.5  62.0  64.5  32.0  45.5  68.0  40.5  23.0   4.0  60.5  49.5  39.0  62.0   0.0   \n",
            "Q  30.0  45.0  44.5  54.0  64.5  54.5  58.5  12.5  56.5  68.0  45.0  20.0  37.0  47.5  63.0  11.0   \n",
            "R  58.0  36.0  32.5  51.5  57.5  42.0  42.0  37.5  72.5  36.5  31.0  85.0  60.0  17.5  20.5  44.5   \n",
            "S  31.5  19.0  67.0  43.5  36.5  49.0  54.0  45.0  90.0  74.5  59.5  70.0  38.5  62.0  55.5  62.0   \n",
            "T  88.5  30.5  68.5  28.5  48.0  85.5  25.0  75.0  62.0  45.5  42.0  20.5  54.5  45.0  52.5  37.0   \n",
            "U  60.0  33.5  54.5  56.5  63.0  54.5  55.5  55.5  82.5  19.0  62.5  59.5  75.0  56.5  39.0  39.0   \n",
            "V  20.0  52.0  50.0  78.0  38.5  90.5  48.0  31.0  28.5  69.0  45.0  61.0  66.5  56.5  82.0  63.0   \n",
            "W  76.0  45.5  58.0  51.5  74.5  70.5  55.5  61.5  76.5  79.5  24.5  39.0  76.0  85.0  81.5  63.0   \n",
            "X  19.0  24.0  28.5  21.0  25.5  32.0  30.5  45.0  52.0  42.5  64.0  29.5  57.5  60.5  79.5  35.5   \n",
            "Y  66.5  45.0  73.0  21.5  47.0  44.0  20.5  22.0  52.0  55.5  41.5   3.5  38.5  52.0  62.0  46.0   \n",
            "Z  71.5  59.5  47.5  74.0  51.0  79.0  65.0   9.0  82.0  65.0  30.0  56.5  26.0  46.5  27.5  67.5   \n",
            "[  71.0  66.0  11.5  43.5  67.5  71.0  20.0  54.5  70.5  48.0  41.5  46.0  68.0  79.5  63.0  76.5   \n",
            "\\  68.0  81.5  57.5  61.0  48.5  74.0  60.5  30.0  41.5  16.0  51.5  45.5  90.0  66.5  36.5  30.5   \n",
            "]  38.5  64.0  24.0  51.0  12.5  46.5  48.5  36.5  58.5  32.5  45.0   6.0  48.0  34.0  59.0  70.0   \n",
            "^  21.0  48.0  83.0  12.0  42.5  42.0  58.0  60.0   5.5  30.5  21.0  46.0  71.0  47.0  73.0  41.0   \n",
            "_  55.5  54.0  52.0  62.0  48.5  22.0  13.5  53.5  54.5  74.5  58.5  52.5  17.5  45.0  30.5  64.5   \n",
            "`  72.0  36.0  57.0  41.5  26.0  24.0  74.5  84.0  55.0  55.0  19.0  59.0  81.0  59.0  28.5  83.0   \n",
            "a  86.0  59.5  30.0  45.5  28.0  57.0  64.0  42.0  64.5  64.0  55.5  56.5  31.5  53.0  39.0  27.5   \n",
            "b  79.5  51.5  45.5  32.5  45.5  19.0  66.5  57.5  73.0  26.5  42.5  47.5  49.5  73.5  52.0  68.0   \n",
            "c  21.0  34.0  78.5   6.5  45.0  71.0  21.0  80.5  17.0  71.0  63.5  14.5  50.0  63.0  47.5  52.5   \n",
            "d  40.5  35.0  71.0  48.5   9.5  70.5  37.0  78.5  57.0  67.5  24.0  41.0  55.5  40.0  45.0  69.0   \n",
            "e  92.0  34.0  64.0  67.5  53.0  65.5  23.5  40.5  48.5  28.5  61.0  60.0  76.0  35.0  87.5  53.0   \n",
            "f  69.5  59.0  48.0  59.5  41.5  82.5  62.5  39.0  39.0  85.0  61.5  15.0  48.0  54.0  49.5  25.5   \n",
            "g  41.5  27.0  73.5  74.5  27.0  48.0  45.5  71.0  66.0  82.5  52.5  37.0  27.5  42.5  49.0  48.5   \n",
            "h  64.5  17.0  52.0  22.5  79.0  40.0  21.5  30.5  85.5  32.0  53.5  76.0  64.0  34.5  86.0  65.0   \n",
            "\n",
            "      Q     R     S     T     U     V     W     X     Y     Z     [     \\     ]     ^     _     `  \\\n",
            "A  30.0  58.0  31.5  88.5  60.0  20.0  76.0  19.0  66.5  71.5  71.0  68.0  38.5  21.0  55.5  72.0   \n",
            "B  45.0  36.0  19.0  30.5  33.5  52.0  45.5  24.0  45.0  59.5  66.0  81.5  64.0  48.0  54.0  36.0   \n",
            "C  44.5  32.5  67.0  68.5  54.5  50.0  58.0  28.5  73.0  47.5  11.5  57.5  24.0  83.0  52.0  57.0   \n",
            "D  54.0  51.5  43.5  28.5  56.5  78.0  51.5  21.0  21.5  74.0  43.5  61.0  51.0  12.0  62.0  41.5   \n",
            "E  64.5  57.5  36.5  48.0  63.0  38.5  74.5  25.5  47.0  51.0  67.5  48.5  12.5  42.5  48.5  26.0   \n",
            "F  54.5  42.0  49.0  85.5  54.5  90.5  70.5  32.0  44.0  79.0  71.0  74.0  46.5  42.0  22.0  24.0   \n",
            "G  58.5  42.0  54.0  25.0  55.5  48.0  55.5  30.5  20.5  65.0  20.0  60.5  48.5  58.0  13.5  74.5   \n",
            "H  12.5  37.5  45.0  75.0  55.5  31.0  61.5  45.0  22.0   9.0  54.5  30.0  36.5  60.0  53.5  84.0   \n",
            "I  56.5  72.5  90.0  62.0  82.5  28.5  76.5  52.0  52.0  82.0  70.5  41.5  58.5   5.5  54.5  55.0   \n",
            "J  68.0  36.5  74.5  45.5  19.0  69.0  79.5  42.5  55.5  65.0  48.0  16.0  32.5  30.5  74.5  55.0   \n",
            "K  45.0  31.0  59.5  42.0  62.5  45.0  24.5  64.0  41.5  30.0  41.5  51.5  45.0  21.0  58.5  19.0   \n",
            "L  20.0  85.0  70.0  20.5  59.5  61.0  39.0  29.5   3.5  56.5  46.0  45.5   6.0  46.0  52.5  59.0   \n",
            "M  37.0  60.0  38.5  54.5  75.0  66.5  76.0  57.5  38.5  26.0  68.0  90.0  48.0  71.0  17.5  81.0   \n",
            "N  47.5  17.5  62.0  45.0  56.5  56.5  85.0  60.5  52.0  46.5  79.5  66.5  34.0  47.0  45.0  59.0   \n",
            "O  63.0  20.5  55.5  52.5  39.0  82.0  81.5  79.5  62.0  27.5  63.0  36.5  59.0  73.0  30.5  28.5   \n",
            "P  11.0  44.5  62.0  37.0  39.0  63.0  63.0  35.5  46.0  67.5  76.5  30.5  70.0  41.0  64.5  83.0   \n",
            "Q   0.0  22.0  71.5  54.5  40.5  59.5  29.5  46.0  97.0  39.5  43.5  60.0  39.5  71.5  10.0  50.5   \n",
            "R  22.0   0.0  58.5  45.5  43.0  63.5  21.5  59.0  49.0  59.0  29.5  47.5  39.0  34.5  42.0  39.5   \n",
            "S  71.5  58.5   0.0  54.5  10.0  50.0  71.0  37.0  70.0  20.0  56.0  97.0  71.0  22.5  59.0  90.5   \n",
            "T  54.5  45.5  54.5   0.0  66.5  59.0  40.0  43.5  30.0  75.5  14.0  25.0  32.0  62.0  77.0  61.5   \n",
            "U  40.5  43.0  10.0  66.5   0.0  50.5  48.5  32.5  49.0  26.0  36.5  46.5  42.0  28.5  48.5  54.0   \n",
            "V  59.5  63.5  50.0  59.0  50.5   0.0  48.5  47.0   9.0  74.5  43.0  41.0  66.5  82.0  64.5  31.5   \n",
            "W  29.5  21.5  71.0  40.0  48.5  48.5   0.0  62.5  59.0  57.5  45.5  59.5  20.0  83.5  51.0  56.0   \n",
            "X  46.0  59.0  37.0  43.5  32.5  47.0  62.5   0.0  58.5  62.0  65.5  31.0  22.0  20.0  82.5  65.0   \n",
            "Y  97.0  49.0  70.0  30.0  49.0   9.0  59.0  58.5   0.0  43.5  50.5  24.0  55.0  37.5  36.5  46.0   \n",
            "Z  39.5  59.0  20.0  75.5  26.0  74.5  57.5  62.0  43.5   0.0  69.0  67.0  59.5  31.5  69.0  56.5   \n",
            "[  43.5  29.5  56.0  14.0  36.5  43.0  45.5  65.5  50.5  69.0   0.0  66.5  35.0   7.0  35.0  62.0   \n",
            "\\  60.0  47.5  97.0  25.0  46.5  41.0  59.5  31.0  24.0  67.0  66.5   0.0  42.5  42.0  31.5  77.5   \n",
            "]  39.5  39.0  71.0  32.0  42.0  66.5  20.0  22.0  55.0  59.5  35.0  42.5   0.0  45.5  43.5  36.5   \n",
            "^  71.5  34.5  22.5  62.0  28.5  82.0  83.5  20.0  37.5  31.5   7.0  42.0  45.5   0.0  44.5  54.5   \n",
            "_  10.0  42.0  59.0  77.0  48.5  64.5  51.0  82.5  36.5  69.0  35.0  31.5  43.5  44.5   0.0  39.0   \n",
            "`  50.5  39.5  90.5  61.5  54.0  31.5  56.0  65.0  46.0  56.5  62.0  77.5  36.5  54.5  39.0   0.0   \n",
            "a  48.0  39.5  67.5  35.5  61.0  53.5  28.5  43.0  74.0  28.5  52.5  32.5  53.5  28.5  69.0  21.5   \n",
            "b  32.5  47.5  72.5  29.5  64.5  15.5  29.5  64.0  42.5  74.5  55.5  79.5  80.5  60.0  68.0  50.0   \n",
            "c  86.0  33.0  79.0  52.5  56.5  32.0  32.5  44.5  28.0  51.5  57.0  50.5  30.0  60.0  30.0  32.5   \n",
            "d  68.0  71.5  47.5  24.0  13.0  56.5  52.5  49.0  66.0  38.5  74.0  56.0  66.0  45.0  30.5  54.0   \n",
            "e  49.5  61.0  32.5  66.5  50.5  18.0  14.5  33.0  60.5  62.5  32.0  53.5  95.0  57.0  61.0  29.0   \n",
            "f  51.5  88.5  65.0  50.0  29.5  87.0  22.5  53.5  51.0  58.5  62.0  29.0  65.0  14.5  71.5  47.5   \n",
            "g  62.5  78.5  39.0  65.0  60.5  60.5  62.0  67.0  40.5  86.0  80.0  12.5  69.5  37.5  57.5  24.0   \n",
            "h  55.0  43.0  72.0  34.5  50.0  73.5  78.5  37.5  71.5  44.5  76.0  56.0  48.0  59.5  38.5  30.5   \n",
            "\n",
            "      a     b     c     d     e     f     g     h  \n",
            "A  86.0  79.5  21.0  40.5  92.0  69.5  41.5  64.5  \n",
            "B  59.5  51.5  34.0  35.0  34.0  59.0  27.0  17.0  \n",
            "C  30.0  45.5  78.5  71.0  64.0  48.0  73.5  52.0  \n",
            "D  45.5  32.5   6.5  48.5  67.5  59.5  74.5  22.5  \n",
            "E  28.0  45.5  45.0   9.5  53.0  41.5  27.0  79.0  \n",
            "F  57.0  19.0  71.0  70.5  65.5  82.5  48.0  40.0  \n",
            "G  64.0  66.5  21.0  37.0  23.5  62.5  45.5  21.5  \n",
            "H  42.0  57.5  80.5  78.5  40.5  39.0  71.0  30.5  \n",
            "I  64.5  73.0  17.0  57.0  48.5  39.0  66.0  85.5  \n",
            "J  64.0  26.5  71.0  67.5  28.5  85.0  82.5  32.0  \n",
            "K  55.5  42.5  63.5  24.0  61.0  61.5  52.5  53.5  \n",
            "L  56.5  47.5  14.5  41.0  60.0  15.0  37.0  76.0  \n",
            "M  31.5  49.5  50.0  55.5  76.0  48.0  27.5  64.0  \n",
            "N  53.0  73.5  63.0  40.0  35.0  54.0  42.5  34.5  \n",
            "O  39.0  52.0  47.5  45.0  87.5  49.5  49.0  86.0  \n",
            "P  27.5  68.0  52.5  69.0  53.0  25.5  48.5  65.0  \n",
            "Q  48.0  32.5  86.0  68.0  49.5  51.5  62.5  55.0  \n",
            "R  39.5  47.5  33.0  71.5  61.0  88.5  78.5  43.0  \n",
            "S  67.5  72.5  79.0  47.5  32.5  65.0  39.0  72.0  \n",
            "T  35.5  29.5  52.5  24.0  66.5  50.0  65.0  34.5  \n",
            "U  61.0  64.5  56.5  13.0  50.5  29.5  60.5  50.0  \n",
            "V  53.5  15.5  32.0  56.5  18.0  87.0  60.5  73.5  \n",
            "W  28.5  29.5  32.5  52.5  14.5  22.5  62.0  78.5  \n",
            "X  43.0  64.0  44.5  49.0  33.0  53.5  67.0  37.5  \n",
            "Y  74.0  42.5  28.0  66.0  60.5  51.0  40.5  71.5  \n",
            "Z  28.5  74.5  51.5  38.5  62.5  58.5  86.0  44.5  \n",
            "[  52.5  55.5  57.0  74.0  32.0  62.0  80.0  76.0  \n",
            "\\  32.5  79.5  50.5  56.0  53.5  29.0  12.5  56.0  \n",
            "]  53.5  80.5  30.0  66.0  95.0  65.0  69.5  48.0  \n",
            "^  28.5  60.0  60.0  45.0  57.0  14.5  37.5  59.5  \n",
            "_  69.0  68.0  30.0  30.5  61.0  71.5  57.5  38.5  \n",
            "`  21.5  50.0  32.5  54.0  29.0  47.5  24.0  30.5  \n",
            "a   0.0  44.0  43.5  82.0  56.0  45.0  35.5  92.0  \n",
            "b  44.0   0.0  37.5  11.0  30.5  52.0  52.5  47.5  \n",
            "c  43.5  37.5   0.0  46.0  86.5  58.0  38.0  38.5  \n",
            "d  82.0  11.0  46.0   0.0  29.5  26.5  45.5  54.5  \n",
            "e  56.0  30.5  86.5  29.5   0.0  71.5  36.5  74.5  \n",
            "f  45.0  52.0  58.0  26.5  71.5   0.0  23.5  30.5  \n",
            "g  35.5  52.5  38.0  45.5  36.5  23.5   0.0  39.5  \n",
            "h  92.0  47.5  38.5  54.5  74.5  30.5  39.5   0.0  \n",
            "Iteration 1: Minimum Tour Cost = 1776.5\n",
            "Iteration 2: Minimum Tour Cost = 1722.5\n",
            "Iteration 3: Minimum Tour Cost = 1772.0\n",
            "Iteration 4: Minimum Tour Cost = 1774.5\n",
            "Iteration 5: Minimum Tour Cost = 1791.0\n",
            "Iteration 6: Minimum Tour Cost = 1721.0\n",
            "Iteration 7: Minimum Tour Cost = 1689.0\n",
            "Iteration 8: Minimum Tour Cost = 1813.0\n",
            "Iteration 9: Minimum Tour Cost = 1811.5\n",
            "Iteration 10: Minimum Tour Cost = 1733.0\n",
            "Iteration 11: Minimum Tour Cost = 1726.5\n",
            "Iteration 12: Minimum Tour Cost = 1666.5\n",
            "Iteration 13: Minimum Tour Cost = 1726.0\n",
            "Iteration 14: Minimum Tour Cost = 1753.5\n",
            "Iteration 15: Minimum Tour Cost = 1748.0\n",
            "Iteration 16: Minimum Tour Cost = 1782.5\n",
            "Iteration 17: Minimum Tour Cost = 1698.5\n",
            "Iteration 18: Minimum Tour Cost = 1715.5\n",
            "Iteration 19: Minimum Tour Cost = 1704.5\n",
            "Iteration 20: Minimum Tour Cost = 1746.5\n",
            "Iteration 21: Minimum Tour Cost = 1752.5\n",
            "Iteration 22: Minimum Tour Cost = 1753.0\n",
            "Iteration 23: Minimum Tour Cost = 1743.0\n",
            "Iteration 24: Minimum Tour Cost = 1647.5\n",
            "Iteration 25: Minimum Tour Cost = 1814.0\n",
            "Iteration 26: Minimum Tour Cost = 1773.5\n",
            "Iteration 27: Minimum Tour Cost = 1759.5\n",
            "Iteration 28: Minimum Tour Cost = 1718.0\n",
            "Iteration 29: Minimum Tour Cost = 1755.0\n",
            "Iteration 30: Minimum Tour Cost = 1772.0\n",
            "Iteration 31: Minimum Tour Cost = 1746.0\n",
            "Iteration 32: Minimum Tour Cost = 1752.0\n",
            "Iteration 33: Minimum Tour Cost = 1686.5\n",
            "Iteration 34: Minimum Tour Cost = 1700.5\n",
            "Iteration 35: Minimum Tour Cost = 1736.5\n",
            "Iteration 36: Minimum Tour Cost = 1861.0\n",
            "Iteration 37: Minimum Tour Cost = 1803.5\n",
            "Iteration 38: Minimum Tour Cost = 1793.0\n",
            "Iteration 39: Minimum Tour Cost = 1829.0\n",
            "Iteration 40: Minimum Tour Cost = 1784.5\n",
            "Iteration 41: Minimum Tour Cost = 1796.0\n",
            "Iteration 42: Minimum Tour Cost = 1843.5\n",
            "Iteration 43: Minimum Tour Cost = 1856.0\n",
            "Iteration 44: Minimum Tour Cost = 1810.5\n",
            "Iteration 45: Minimum Tour Cost = 1702.5\n",
            "Iteration 46: Minimum Tour Cost = 1687.0\n",
            "Iteration 47: Minimum Tour Cost = 1659.5\n",
            "Iteration 48: Minimum Tour Cost = 1653.5\n",
            "Iteration 49: Minimum Tour Cost = 1641.5\n",
            "Iteration 50: Minimum Tour Cost = 1753.5\n",
            "Iteration 51: Minimum Tour Cost = 1774.5\n",
            "Iteration 52: Minimum Tour Cost = 1675.0\n",
            "Iteration 53: Minimum Tour Cost = 1708.5\n",
            "Iteration 54: Minimum Tour Cost = 1767.5\n",
            "Iteration 55: Minimum Tour Cost = 1712.5\n",
            "Iteration 56: Minimum Tour Cost = 1668.5\n",
            "Iteration 57: Minimum Tour Cost = 1716.5\n",
            "Iteration 58: Minimum Tour Cost = 1763.0\n",
            "Iteration 59: Minimum Tour Cost = 1791.0\n",
            "Iteration 60: Minimum Tour Cost = 1735.0\n",
            "Iteration 61: Minimum Tour Cost = 1786.0\n",
            "Iteration 62: Minimum Tour Cost = 1771.5\n",
            "Iteration 63: Minimum Tour Cost = 1765.5\n",
            "Iteration 64: Minimum Tour Cost = 1707.0\n",
            "Iteration 65: Minimum Tour Cost = 1588.5\n",
            "Iteration 66: Minimum Tour Cost = 1789.5\n",
            "Iteration 67: Minimum Tour Cost = 1753.5\n",
            "Iteration 68: Minimum Tour Cost = 1722.0\n",
            "Iteration 69: Minimum Tour Cost = 1706.0\n",
            "Iteration 70: Minimum Tour Cost = 1776.5\n",
            "Iteration 71: Minimum Tour Cost = 1719.0\n",
            "Iteration 72: Minimum Tour Cost = 1743.5\n",
            "Iteration 73: Minimum Tour Cost = 1741.5\n",
            "Iteration 74: Minimum Tour Cost = 1824.0\n",
            "Iteration 75: Minimum Tour Cost = 1782.0\n",
            "Iteration 76: Minimum Tour Cost = 1820.0\n",
            "Iteration 77: Minimum Tour Cost = 1730.0\n",
            "Iteration 78: Minimum Tour Cost = 1734.0\n",
            "Iteration 79: Minimum Tour Cost = 1650.5\n",
            "Iteration 80: Minimum Tour Cost = 1736.5\n",
            "Iteration 81: Minimum Tour Cost = 1739.5\n",
            "Iteration 82: Minimum Tour Cost = 1674.5\n",
            "Iteration 83: Minimum Tour Cost = 1684.5\n",
            "Iteration 84: Minimum Tour Cost = 1675.5\n",
            "Iteration 85: Minimum Tour Cost = 1770.5\n",
            "Iteration 86: Minimum Tour Cost = 1751.5\n",
            "Iteration 87: Minimum Tour Cost = 1756.5\n",
            "Iteration 88: Minimum Tour Cost = 1720.5\n",
            "Iteration 89: Minimum Tour Cost = 1738.5\n",
            "Iteration 90: Minimum Tour Cost = 1624.0\n",
            "Iteration 91: Minimum Tour Cost = 1700.0\n",
            "Iteration 92: Minimum Tour Cost = 1789.5\n",
            "Iteration 93: Minimum Tour Cost = 1749.0\n",
            "Iteration 94: Minimum Tour Cost = 1726.0\n",
            "Iteration 95: Minimum Tour Cost = 1696.0\n",
            "Iteration 96: Minimum Tour Cost = 1803.0\n",
            "Iteration 97: Minimum Tour Cost = 1761.5\n",
            "Iteration 98: Minimum Tour Cost = 1735.0\n",
            "Iteration 99: Minimum Tour Cost = 1743.5\n",
            "Iteration 100: Minimum Tour Cost = 1791.0\n",
            "Final minimum cost for 40 cities: 1791.0\n",
            "\n",
            "Summary of results:\n",
            "5 cities: Final minimum cost = 243.0\n",
            "10 cities: Final minimum cost = 386.0\n",
            "20 cities: Final minimum cost = 825.5\n",
            "40 cities: Final minimum cost = 1791.0\n"
          ]
        }
      ]
    },
    {
      "cell_type": "code",
      "source": [],
      "metadata": {
        "id": "KMuk-i_v_ge2"
      },
      "execution_count": 69,
      "outputs": []
    }
  ]
}
