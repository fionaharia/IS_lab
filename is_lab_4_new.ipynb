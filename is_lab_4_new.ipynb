{
  "nbformat": 4,
  "nbformat_minor": 0,
  "metadata": {
    "colab": {
      "provenance": []
    },
    "kernelspec": {
      "name": "python3",
      "display_name": "Python 3"
    },
    "language_info": {
      "name": "python"
    }
  },
  "cells": [
    {
      "cell_type": "markdown",
      "source": [
        "# **FIONA HARIA 60009220048 D1-2 D040**"
      ],
      "metadata": {
        "id": "KdO7V9wGfVxT"
      }
    },
    {
      "cell_type": "markdown",
      "source": [
        "# Formulas , Literals and User Selected Bits"
      ],
      "metadata": {
        "id": "RsG1M0Nr9KYa"
      }
    },
    {
      "cell_type": "code",
      "source": [
        "# F1: (A V ~B) ^ (B V ~C) ^ (~B) ^ (~C V E) ^ (A V C) ^ (~C V ~D)\n",
        "F1 = [\n",
        "    [1, -2],\n",
        "    [2, -3],\n",
        "    [-2],\n",
        "    [-3, 5],\n",
        "    [1, 3],\n",
        "    [-3, -4]\n",
        "]\n",
        "\n",
        "# F2: (A V B) ^ (A ^ ~C) ^ (B ^ D) ^ (A V ~E)\n",
        "F2 = [\n",
        "    [1, 2],\n",
        "    [1, -3],\n",
        "    [2, 4],\n",
        "    [1, -5]\n",
        "]\n",
        "\n",
        "user_selected_bits = [0, 2, 4]"
      ],
      "metadata": {
        "id": "B_01fJQt7zBm"
      },
      "execution_count": 1,
      "outputs": []
    },
    {
      "cell_type": "markdown",
      "source": [
        "# Clause Evaluation and Heuristic"
      ],
      "metadata": {
        "id": "asf_9Rj39jrE"
      }
    },
    {
      "cell_type": "code",
      "source": [
        "import random\n",
        "def evaluate_clause(clause, assignment):\n",
        "    for literal in clause:\n",
        "        if literal > 0 and assignment[literal - 1]:\n",
        "            return True\n",
        "        if literal < 0 and not assignment[-literal - 1]:\n",
        "            return True\n",
        "    return False\n",
        "\n",
        "def evaluate_formula(formula, assignment):\n",
        "    return all(evaluate_clause(clause, assignment) for clause in formula)\n",
        "\n",
        "def heuristic(formula, assignment):\n",
        "    satisfied_clauses = sum(evaluate_clause(clause, assignment) for clause in formula)\n",
        "    return satisfied_clauses"
      ],
      "metadata": {
        "id": "9vCbLUWw5Blg"
      },
      "execution_count": 2,
      "outputs": []
    },
    {
      "cell_type": "markdown",
      "source": [
        "# MoveGen and Neighbour function"
      ],
      "metadata": {
        "id": "Ti40_jpw9vlT"
      }
    },
    {
      "cell_type": "code",
      "source": [
        "def neighbors(assignment, selected_bits):\n",
        "    neighborhood = []\n",
        "    for i in selected_bits:\n",
        "        new_assignment = assignment[:]\n",
        "        new_assignment[i] = not new_assignment[i]\n",
        "        neighborhood.append(new_assignment)\n",
        "        print(f\"Generated neighbor by flipping bit {i}: {new_assignment}\")\n",
        "    return neighborhood\n",
        "\n",
        "def move_generation(formula, assignment, selected_bits=None):\n",
        "    if selected_bits is None:\n",
        "        selected_bits = list(range(len(assignment)))\n",
        "\n",
        "    best_assignment = assignment\n",
        "    best_heuristic_value = heuristic(formula, assignment)\n",
        "    print(f\"Initial assignment: {assignment}, Heuristic value: {best_heuristic_value}\")\n",
        "\n",
        "    for neighbor in neighbors(assignment, selected_bits):\n",
        "        current_heuristic_value = heuristic(formula, neighbor)\n",
        "        print(f\"Evaluating neighbor: {neighbor}, Heuristic value: {current_heuristic_value}\")\n",
        "        if current_heuristic_value > best_heuristic_value:\n",
        "            best_assignment = neighbor\n",
        "            best_heuristic_value = current_heuristic_value\n",
        "            print(f\"New best assignment: {best_assignment}, Heuristic value: {best_heuristic_value}\")\n",
        "\n",
        "    return best_assignment, best_heuristic_value"
      ],
      "metadata": {
        "id": "z5_68ILj8QJ5"
      },
      "execution_count": 3,
      "outputs": []
    },
    {
      "cell_type": "markdown",
      "source": [
        "# Variable Neighbourhood Descent"
      ],
      "metadata": {
        "id": "dl2clCXl97xO"
      }
    },
    {
      "cell_type": "code",
      "source": [
        "def VND(formula, max_iter=1000, selected_bits=None):\n",
        "    n = len(set(abs(lit) for clause in formula for lit in clause))\n",
        "    current_assignment = [random.choice([True, False]) for _ in range(n)]\n",
        "    best_assignment, best_heuristic_value = current_assignment, heuristic(formula, current_assignment)\n",
        "    for _ in range(max_iter):\n",
        "        new_assignment, new_heuristic_value = move_generation(formula, best_assignment, selected_bits)\n",
        "        if new_heuristic_value > best_heuristic_value:\n",
        "            best_assignment = new_assignment\n",
        "            best_heuristic_value = new_heuristic_value\n",
        "        else:\n",
        "            break\n",
        "\n",
        "    return best_assignment, evaluate_formula(formula, best_assignment)"
      ],
      "metadata": {
        "id": "d6Bnlbo477Gf"
      },
      "execution_count": 4,
      "outputs": []
    },
    {
      "cell_type": "markdown",
      "source": [
        "# Testing the MoveGen function\n"
      ],
      "metadata": {
        "id": "_JiT8uG--Hzg"
      }
    },
    {
      "cell_type": "code",
      "source": [
        "print(\"Testing move generation for F1:\")\n",
        "solution_F1, is_satisfied_F1 = VND(F1, selected_bits=user_selected_bits)\n",
        "print(f\"Final solution for F1: {solution_F1}, Satisfied: {is_satisfied_F1}\\n\")"
      ],
      "metadata": {
        "colab": {
          "base_uri": "https://localhost:8080/"
        },
        "id": "E6CxDVXZ7uPG",
        "outputId": "77cfc891-7efb-4030-a25d-b768af25c90e"
      },
      "execution_count": 5,
      "outputs": [
        {
          "output_type": "stream",
          "name": "stdout",
          "text": [
            "Testing move generation for F1:\n",
            "Initial assignment: [False, False, False, True, True], Heuristic value: 5\n",
            "Generated neighbor by flipping bit 0: [True, False, False, True, True]\n",
            "Generated neighbor by flipping bit 2: [False, False, True, True, True]\n",
            "Generated neighbor by flipping bit 4: [False, False, False, True, False]\n",
            "Evaluating neighbor: [True, False, False, True, True], Heuristic value: 6\n",
            "New best assignment: [True, False, False, True, True], Heuristic value: 6\n",
            "Evaluating neighbor: [False, False, True, True, True], Heuristic value: 4\n",
            "Evaluating neighbor: [False, False, False, True, False], Heuristic value: 5\n",
            "Initial assignment: [True, False, False, True, True], Heuristic value: 6\n",
            "Generated neighbor by flipping bit 0: [False, False, False, True, True]\n",
            "Generated neighbor by flipping bit 2: [True, False, True, True, True]\n",
            "Generated neighbor by flipping bit 4: [True, False, False, True, False]\n",
            "Evaluating neighbor: [False, False, False, True, True], Heuristic value: 5\n",
            "Evaluating neighbor: [True, False, True, True, True], Heuristic value: 4\n",
            "Evaluating neighbor: [True, False, False, True, False], Heuristic value: 6\n",
            "Final solution for F1: [True, False, False, True, True], Satisfied: True\n",
            "\n"
          ]
        }
      ]
    },
    {
      "cell_type": "code",
      "source": [
        "print(\"Testing move generation for F2:\")\n",
        "solution_F2, is_satisfied_F2 = VND(F2, selected_bits=user_selected_bits)\n",
        "print(f\"Final solution for F2: {solution_F2}, Satisfied: {is_satisfied_F2}\")"
      ],
      "metadata": {
        "colab": {
          "base_uri": "https://localhost:8080/"
        },
        "id": "BTyFZ25S7qUB",
        "outputId": "53e5b572-382d-4060-fd41-bdb75e5c2490"
      },
      "execution_count": 6,
      "outputs": [
        {
          "output_type": "stream",
          "name": "stdout",
          "text": [
            "Testing move generation for F2:\n",
            "Initial assignment: [False, False, False, False, True], Heuristic value: 1\n",
            "Generated neighbor by flipping bit 0: [True, False, False, False, True]\n",
            "Generated neighbor by flipping bit 2: [False, False, True, False, True]\n",
            "Generated neighbor by flipping bit 4: [False, False, False, False, False]\n",
            "Evaluating neighbor: [True, False, False, False, True], Heuristic value: 3\n",
            "New best assignment: [True, False, False, False, True], Heuristic value: 3\n",
            "Evaluating neighbor: [False, False, True, False, True], Heuristic value: 0\n",
            "Evaluating neighbor: [False, False, False, False, False], Heuristic value: 2\n",
            "Initial assignment: [True, False, False, False, True], Heuristic value: 3\n",
            "Generated neighbor by flipping bit 0: [False, False, False, False, True]\n",
            "Generated neighbor by flipping bit 2: [True, False, True, False, True]\n",
            "Generated neighbor by flipping bit 4: [True, False, False, False, False]\n",
            "Evaluating neighbor: [False, False, False, False, True], Heuristic value: 1\n",
            "Evaluating neighbor: [True, False, True, False, True], Heuristic value: 3\n",
            "Evaluating neighbor: [True, False, False, False, False], Heuristic value: 3\n",
            "Final solution for F2: [True, False, False, False, True], Satisfied: False\n"
          ]
        }
      ]
    },
    {
      "cell_type": "code",
      "source": [
        "print(f\"Solution for F1: {solution_F1}, Satisfied: {is_satisfied_F1}\")\n",
        "print(f\"Solution for F2: {solution_F2}, Satisfied: {is_satisfied_F2}\")"
      ],
      "metadata": {
        "colab": {
          "base_uri": "https://localhost:8080/"
        },
        "id": "DxvpiZJj7k_L",
        "outputId": "4d68f14c-c9fb-478d-b7e3-ee64a133c980"
      },
      "execution_count": 7,
      "outputs": [
        {
          "output_type": "stream",
          "name": "stdout",
          "text": [
            "Solution for F1: [True, False, False, True, True], Satisfied: True\n",
            "Solution for F2: [True, False, False, False, True], Satisfied: False\n"
          ]
        }
      ]
    },
    {
      "cell_type": "markdown",
      "source": [
        "# Printing the state space tree"
      ],
      "metadata": {
        "id": "quhXjGRa-Teq"
      }
    },
    {
      "cell_type": "code",
      "source": [
        "class TreeNode:\n",
        "    def __init__(self, assignment, heuristic_value):\n",
        "        self.assignment = assignment\n",
        "        self.heuristic_value = heuristic_value\n",
        "        self.children = []\n",
        "\n",
        "    def add_child(self, child_node):\n",
        "        self.children.append(child_node)\n",
        "\n",
        "\n",
        "def build_state_space_tree(formula, max_iter=1000, selected_bits=None):\n",
        "    n = len(set(abs(lit) for clause in formula for lit in clause))\n",
        "    current_assignment = [random.choice([True, False]) for _ in range(n)]\n",
        "    root = TreeNode(current_assignment, heuristic(formula, current_assignment))\n",
        "\n",
        "    best_assignment, best_heuristic_value = current_assignment, root.heuristic_value\n",
        "\n",
        "    current_node = root\n",
        "    for _ in range(max_iter):\n",
        "        new_assignment, new_heuristic_value = move_generation(formula, best_assignment, selected_bits)\n",
        "\n",
        "        new_node = TreeNode(new_assignment, new_heuristic_value)\n",
        "        current_node.add_child(new_node)\n",
        "\n",
        "        if new_heuristic_value > best_heuristic_value:\n",
        "            best_assignment = new_assignment\n",
        "            best_heuristic_value = new_heuristic_value\n",
        "            current_node = new_node\n",
        "        else:\n",
        "            break\n",
        "\n",
        "    return root\n",
        "\n",
        "\n",
        "def print_state_space_tree(node, level=0):\n",
        "    indent = \"  \" * level\n",
        "    print(f\"{indent}Assignment: {node.assignment}, Heuristic: {node.heuristic_value}\")\n",
        "\n",
        "    for child in node.children:\n",
        "        print_state_space_tree(child, level + 1)\n",
        "\n",
        "root_F1 = build_state_space_tree(F1, selected_bits=user_selected_bits)\n",
        "root_F2 = build_state_space_tree(F2, selected_bits=user_selected_bits)\n",
        "\n",
        "print(\"State Space Tree for F1:\")\n",
        "print_state_space_tree(root_F1)\n",
        "\n",
        "print(\"\\nState Space Tree for F2:\")\n",
        "print_state_space_tree(root_F2)"
      ],
      "metadata": {
        "colab": {
          "base_uri": "https://localhost:8080/"
        },
        "id": "jNgfAu135KZg",
        "outputId": "1ca4638a-808e-43da-805e-9d100ebfbdb5"
      },
      "execution_count": 8,
      "outputs": [
        {
          "output_type": "stream",
          "name": "stdout",
          "text": [
            "Initial assignment: [False, False, True, False, True], Heuristic value: 5\n",
            "Generated neighbor by flipping bit 0: [True, False, True, False, True]\n",
            "Generated neighbor by flipping bit 2: [False, False, False, False, True]\n",
            "Generated neighbor by flipping bit 4: [False, False, True, False, False]\n",
            "Evaluating neighbor: [True, False, True, False, True], Heuristic value: 5\n",
            "Evaluating neighbor: [False, False, False, False, True], Heuristic value: 5\n",
            "Evaluating neighbor: [False, False, True, False, False], Heuristic value: 4\n",
            "Initial assignment: [False, False, False, False, True], Heuristic value: 1\n",
            "Generated neighbor by flipping bit 0: [True, False, False, False, True]\n",
            "Generated neighbor by flipping bit 2: [False, False, True, False, True]\n",
            "Generated neighbor by flipping bit 4: [False, False, False, False, False]\n",
            "Evaluating neighbor: [True, False, False, False, True], Heuristic value: 3\n",
            "New best assignment: [True, False, False, False, True], Heuristic value: 3\n",
            "Evaluating neighbor: [False, False, True, False, True], Heuristic value: 0\n",
            "Evaluating neighbor: [False, False, False, False, False], Heuristic value: 2\n",
            "Initial assignment: [True, False, False, False, True], Heuristic value: 3\n",
            "Generated neighbor by flipping bit 0: [False, False, False, False, True]\n",
            "Generated neighbor by flipping bit 2: [True, False, True, False, True]\n",
            "Generated neighbor by flipping bit 4: [True, False, False, False, False]\n",
            "Evaluating neighbor: [False, False, False, False, True], Heuristic value: 1\n",
            "Evaluating neighbor: [True, False, True, False, True], Heuristic value: 3\n",
            "Evaluating neighbor: [True, False, False, False, False], Heuristic value: 3\n",
            "State Space Tree for F1:\n",
            "Assignment: [False, False, True, False, True], Heuristic: 5\n",
            "  Assignment: [False, False, True, False, True], Heuristic: 5\n",
            "\n",
            "State Space Tree for F2:\n",
            "Assignment: [False, False, False, False, True], Heuristic: 1\n",
            "  Assignment: [True, False, False, False, True], Heuristic: 3\n",
            "    Assignment: [True, False, False, False, True], Heuristic: 3\n"
          ]
        }
      ]
    },
    {
      "cell_type": "markdown",
      "source": [
        "# Conclusion\n",
        "\n",
        "Variable Neighborhood Descent (VND) applied to SAT problems, as demonstrated in the above code, explores possible assignments by flipping selected bits and evaluating their quality using a heuristic function. It improves the current solution by exploring its neighbors and selecting the best one based on heuristic performance. The process terminates when no better neighbors are found, making VND an effective global search algorithm for optimizing SAT problem solutions within a given neighborhood."
      ],
      "metadata": {
        "id": "x5oEVAbZAjyD"
      }
    }
  ]
}