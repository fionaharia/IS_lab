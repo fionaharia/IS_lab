{
  "cells": [
    {
      "cell_type": "markdown",
      "source": [
        "# **FIONA HARIA | 60009220048 | D1-2 | D040**"
      ],
      "metadata": {
        "id": "vfxJPKSNcX0O"
      }
    },
    {
      "cell_type": "markdown",
      "source": [
        "# **Creating the Block Game Function**"
      ],
      "metadata": {
        "id": "u1Bi2S4Ocnz4"
      }
    },
    {
      "cell_type": "code",
      "execution_count": 2,
      "metadata": {
        "id": "0OZzsovpx7NJ"
      },
      "outputs": [],
      "source": [
        "class BlockGame:\n",
        "  def __init__(self,startState,goalState):\n",
        "    self.startState = startState\n",
        "    self.goalState = goalState\n",
        "\n",
        "    self.goalPrevs = self.getGoalPrevs()\n",
        "\n",
        "  def getGoalPrevs(self):\n",
        "    goalPrevs = {}\n",
        "    for i in range(len(self.goalState)):\n",
        "      for j in range(len(self.goalState[i])):\n",
        "        if j == 0:\n",
        "          goalPrevs[self.goalState[i][j]] = '0'\n",
        "        else:\n",
        "          goalPrevs[self.goalState[i][j]] = self.goalState[i][j-1]\n",
        "    return goalPrevs\n",
        "\n",
        "  def moveGen(self,state):\n",
        "    states = []\n",
        "    for i in range(len(state)):\n",
        "      for j in range(len(state)):\n",
        "        if i != j:\n",
        "          newState = []\n",
        "          for k in range(len(state)):\n",
        "            newState.append(state[k].copy())\n",
        "\n",
        "          if len(newState[i]) > 0:\n",
        "            newState[j].append(newState[i].pop())\n",
        "            states.append(newState)\n",
        "    return states\n",
        "\n",
        "  def checkGoal(self,state):\n",
        "    return state == self.goalState\n",
        "\n",
        "  def h1(self,state):\n",
        "    score = 0\n",
        "    for i in range(len(state)):\n",
        "      for j in range(min(len(state[i]),len(self.goalState[i]))):\n",
        "        if state[i][j] != self.goalState[i][j]:\n",
        "          score += 1\n",
        "        else:\n",
        "          score -=1\n",
        "    return score\n",
        "\n",
        "  def h2(self,state):\n",
        "    cost = 0\n",
        "\n",
        "    goal_positions = {}\n",
        "    for i, tower in enumerate(self.goalState):\n",
        "        for j, block in enumerate(tower):\n",
        "            goal_positions[block] = (i, j)\n",
        "\n",
        "\n",
        "    for i, tower in enumerate(state):\n",
        "        for j, block in enumerate(tower):\n",
        "            if block in goal_positions:\n",
        "                goal_tower_index, goal_block_index = goal_positions[block]\n",
        "                if i == goal_tower_index and j == goal_block_index:\n",
        "                    cost += j + 1\n",
        "                else:\n",
        "                    cost -= j + 1\n",
        "\n",
        "    return cost\n",
        "\n",
        "  def hillClimbing(self,state,currScore,heuristic='h2'):\n",
        "    if self.checkGoal(state):\n",
        "      return [state]\n",
        "    ans = None\n",
        "    for newState in self.moveGen(state):\n",
        "      if heuristic == 'h1':\n",
        "        score = self.h1(newState)\n",
        "      else:\n",
        "        score = self.h2(newState)\n",
        "      if score > currScore:\n",
        "        ans = self.hillClimbing(newState,score,heuristic)\n",
        "        if ans != None:\n",
        "          return [state] + ans\n",
        "    return ans\n",
        "\n",
        "\n",
        "  def bestFirst(self,state,visited={},heuristic='h2'):\n",
        "    if tuple(map(tuple,state)) in visited:\n",
        "      return None\n",
        "    if self.checkGoal(state):\n",
        "      return [state]\n",
        "\n",
        "    ans = None\n",
        "    pq = []\n",
        "    visited[tuple(map(tuple,state))] = True\n",
        "\n",
        "    newStates = [i for i in self.moveGen(state) if tuple(map(tuple,i)) not in visited]\n",
        "    for i in newStates:\n",
        "      if heuristic == 'h1':\n",
        "        score = self.h1(i)\n",
        "      else:\n",
        "        score = self.h2(i)\n",
        "      heappush(pq,(-score,i))\n",
        "\n",
        "    for score,state in pq:\n",
        "      ans = self.bestFirst(state,visited,heuristic)\n",
        "      if ans != None:\n",
        "        return [state] + ans\n",
        "    return ans\n"
      ]
    },
    {
      "cell_type": "markdown",
      "source": [
        "# **Taking user input of the blocks**"
      ],
      "metadata": {
        "id": "Z6PI-vO8jT4B"
      }
    },
    {
      "cell_type": "code",
      "source": [
        "startState = []\n",
        "goalState = []\n",
        "\n",
        "print(\"Start State : \")\n",
        "for i in range(3):\n",
        "  startState.append(input(f\"Enter elements in stack {i+1} : \").split())\n",
        "\n",
        "print(\"Goal State : \")\n",
        "for i in range(3):\n",
        "  goalState.append(input(f\"Enter elements in stack {i+1} : \").split())\n",
        "\n",
        "game = BlockGame(startState,goalState)"
      ],
      "metadata": {
        "colab": {
          "base_uri": "https://localhost:8080/"
        },
        "id": "zEBAzT15jYi6",
        "outputId": "c96aab65-6eb2-40b4-90f1-5cfdf9a5c64c"
      },
      "execution_count": 5,
      "outputs": [
        {
          "name": "stdout",
          "output_type": "stream",
          "text": [
            "Start State : \n",
            "Enter elements in stack 1 : D C B A\n",
            "Enter elements in stack 2 : F E\n",
            "Enter elements in stack 3 : \n",
            "Goal State : \n",
            "Enter elements in stack 1 : D C B E A \n",
            "Enter elements in stack 2 : F\n",
            "Enter elements in stack 3 : \n"
          ]
        }
      ]
    },
    {
      "cell_type": "markdown",
      "source": [
        "# **H1 Heurestic Function**"
      ],
      "metadata": {
        "id": "DT35igKxid-y"
      }
    },
    {
      "cell_type": "code",
      "source": [
        "ans = game.hillClimbing(startState,game.h2(startState),\"h1\")\n",
        "print(ans)"
      ],
      "metadata": {
        "colab": {
          "base_uri": "https://localhost:8080/"
        },
        "id": "4eeat48jdb3U",
        "outputId": "46aef483-2847-4d44-f04d-e6b8916edaf7"
      },
      "execution_count": 11,
      "outputs": [
        {
          "output_type": "stream",
          "name": "stdout",
          "text": [
            "None\n"
          ]
        }
      ]
    },
    {
      "cell_type": "markdown",
      "source": [
        "# **H2 Heurestic Function**"
      ],
      "metadata": {
        "id": "5KU7hqdgild-"
      }
    },
    {
      "cell_type": "code",
      "execution_count": 12,
      "metadata": {
        "id": "rG7zAMUt3aXS",
        "colab": {
          "base_uri": "https://localhost:8080/"
        },
        "outputId": "d2528afa-67dd-4130-c802-25c1d6a92fc3"
      },
      "outputs": [
        {
          "output_type": "stream",
          "name": "stdout",
          "text": [
            "[['D', 'C', 'B', 'A'], ['F', 'E'], []]\n",
            "[['D', 'C', 'B'], ['F', 'E', 'A'], []]\n",
            "[['D', 'C', 'B'], ['F', 'E'], ['A']]\n",
            "[['D', 'C', 'B', 'E'], ['F'], ['A']]\n",
            "[['D', 'C', 'B', 'E', 'A'], ['F'], []]\n"
          ]
        }
      ],
      "source": [
        "ans = game.hillClimbing(startState,game.h2(startState),\"h2\")\n",
        "for i in ans:\n",
        "  print(i)"
      ]
    },
    {
      "cell_type": "markdown",
      "source": [
        "\n",
        "# **Best-First Search with Heuristic 1**"
      ],
      "metadata": {
        "id": "hGhmRFXGiqBS"
      }
    },
    {
      "cell_type": "code",
      "source": [
        "from heapq import heapify,heappush,heappop\n",
        "ans = game.bestFirst(startState,{},'h1')"
      ],
      "metadata": {
        "id": "CGPVNKDkd7ns"
      },
      "execution_count": null,
      "outputs": []
    },
    {
      "cell_type": "markdown",
      "source": [
        "# **Best-First Search with Heuristic 2**"
      ],
      "metadata": {
        "id": "Fr-xg-D9jA2e"
      }
    },
    {
      "cell_type": "code",
      "execution_count": 16,
      "metadata": {
        "id": "ZSEZRAZf4DZ2"
      },
      "outputs": [],
      "source": [
        "ans = game.bestFirst(startState,{},'h2')"
      ]
    },
    {
      "cell_type": "code",
      "execution_count": 17,
      "metadata": {
        "colab": {
          "base_uri": "https://localhost:8080/"
        },
        "id": "eXMahy4F6FwF",
        "outputId": "1085da8d-5004-4c89-b506-8fd3766b9f91"
      },
      "outputs": [
        {
          "output_type": "stream",
          "name": "stdout",
          "text": [
            "[['D', 'C', 'B'], ['F', 'E'], ['A']]\n",
            "[['D', 'C', 'B', 'E'], ['F'], ['A']]\n",
            "[['D', 'C', 'B', 'E', 'A'], ['F'], []]\n",
            "[['D', 'C', 'B', 'E', 'A'], ['F'], []]\n"
          ]
        }
      ],
      "source": [
        "for i in ans:\n",
        "  print(i)"
      ]
    },
    {
      "cell_type": "markdown",
      "source": [
        "# **Tabular format**\n",
        "\n",
        "\n",
        "![1.png](data:image/png;base64,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)"
      ],
      "metadata": {
        "id": "aTDLIFbfsZPV"
      }
    },
    {
      "cell_type": "markdown",
      "source": [
        "# **Conclusion**\n",
        "\n",
        "The BlockGame class provides a structured approach to solving the block stacking problem using heuristic search methods. The implementation includes essential search algorithms and heuristic evaluations to guide the search process. While the hill climbing algorithm focuses on local improvements, the best-first search algorithm leverages a priority queue for a broader exploration of the search space. Both algorithms rely on heuristic functions to evaluate and prioritize states, making the class versatile for experimenting with different search strategies and heuristics.\n",
        "\n",
        "\n",
        "\n",
        "\n",
        "\n",
        "\n"
      ],
      "metadata": {
        "id": "LgqTyvhGePbd"
      }
    },
    {
      "cell_type": "code",
      "source": [],
      "metadata": {
        "id": "7gFswojUetF7"
      },
      "execution_count": null,
      "outputs": []
    }
  ],
  "metadata": {
    "colab": {
      "provenance": []
    },
    "kernelspec": {
      "display_name": "Python 3",
      "name": "python3"
    },
    "language_info": {
      "name": "python"
    }
  },
  "nbformat": 4,
  "nbformat_minor": 0
}
