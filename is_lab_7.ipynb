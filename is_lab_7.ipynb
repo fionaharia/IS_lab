{
  "nbformat": 4,
  "nbformat_minor": 0,
  "metadata": {
    "colab": {
      "provenance": []
    },
    "kernelspec": {
      "name": "python3",
      "display_name": "Python 3"
    },
    "language_info": {
      "name": "python"
    }
  },
  "cells": [
    {
      "cell_type": "markdown",
      "source": [
        "# **FIONA HARIA | 60009220048 | D040 | D1-2**"
      ],
      "metadata": {
        "id": "lUH4YblooQNW"
      }
    },
    {
      "cell_type": "markdown",
      "source": [
        "# **CITY COORDINATES**"
      ],
      "metadata": {
        "id": "l-A2Yq0gVO87"
      }
    },
    {
      "cell_type": "code",
      "execution_count": 9,
      "metadata": {
        "id": "3-Stn5N_yIQu"
      },
      "outputs": [],
      "source": [
        "cities_coordinates = {\n",
        "    \"Pune\": (18.516726, 73.856255),\n",
        "    \"Nasik\": (19.997454, 73.789803),\n",
        "    \"Dhule\": (20.903118, 74.774986),\n",
        "    \"Jalgaon\": (21.004194, 75.563942),\n",
        "    \"Goa\": (15.3333, 74.0833),\n",
        "    \"Vapi\": (20.3714, 72.9047),\n",
        "    \"Surat\": (21.1702, 72.8311),\n",
        "    \"Vadodra\": (22.3072, 73.1812),\n",
        "    \"Rajkot\": (22.3039, 70.8022),\n",
        "    \"Indore\": (22.7196, 75.8577),\n",
        "    \"Ajmer\": (26.4499, 74.6399),\n",
        "    \"Kota\": (25.2138, 75.8648),\n",
        "    \"Jodhpur\": (26.2389, 73.0243),\n",
        "    \"Ujjain\": (23.1793, 75.7849),\n",
        "    \"Udaipur\": (24.5854, 73.7125),\n",
        "    \"Chittorghar\": (24.8887, 74.6269),\n",
        "    \"Hisar\": (29.1492, 75.7217),\n",
        "    \"Faridabad\": (28.4089, 77.3178),\n",
        "    \"Gurugram\": (28.4595, 77.0266),\n",
        "    \"Greater Noida\": (28.4744, 77.5030),\n",
        "    \"Gaziabad\": (28.6692, 77.4538),\n",
        "    \"New Delhi\": (28.6139, 77.2090)\n",
        "}\n"
      ]
    },
    {
      "cell_type": "markdown",
      "source": [
        "# **ASSIGNING COSTS AND CONNECTIONS**"
      ],
      "metadata": {
        "id": "aJ5K1QRAayKA"
      }
    },
    {
      "cell_type": "code",
      "source": [
        "city_graph = {\n",
        "\n",
        "    \"Pune\": {\"Nasik\": 50, \"Goa\": 150},\n",
        "    \"Nasik\": {\"Pune\": 50, \"Dhule\": 60, \"Jalgaon\": 100},\n",
        "    \"Dhule\": {\"Nasik\": 60, \"Jalgaon\": 30},\n",
        "    \"Jalgaon\": {\"Nasik\": 100, \"Dhule\": 30},\n",
        "    \"Goa\": {\"Pune\": 150, \"Vapi\": 80},\n",
        "    \"Vapi\": {\"Goa\": 80, \"Surat\": 50},\n",
        "    \"Surat\": {\"Vapi\": 50, \"Vadodra\": 60},\n",
        "    \"Vadodra\": {\"Surat\": 60, \"Indore\": 90},\n",
        "    \"Indore\": {\"Vadodra\": 90, \"Ujjain\": 30, \"Kota\": 120},\n",
        "    \"Ujjain\": {\"Indore\": 30},\n",
        "    \"Kota\": {\"Indore\": 120, \"Ajmer\": 70},\n",
        "    \"Ajmer\": {\"Kota\": 70, \"Jodhpur\": 110},\n",
        "    \"Jodhpur\": {\"Ajmer\": 110, \"Udaipur\": 80},\n",
        "    \"Udaipur\": {\"Jodhpur\": 80, \"Chittorghar\": 60},\n",
        "    \"Chittorghar\": {\"Udaipur\": 60, \"Hisar\": 180},\n",
        "    \"Hisar\": {\"Chittorghar\": 180, \"Faridabad\": 100},\n",
        "    \"Faridabad\": {\"Hisar\": 100, \"Gurugram\": 30},\n",
        "    \"Gurugram\": {\"Faridabad\": 30, \"Greater Noida\": 60},\n",
        "    \"Greater Noida\": {\"Gurugram\": 60, \"Gaziabad\": 40},\n",
        "    \"Gaziabad\": {\"Greater Noida\": 40, \"New Delhi\": 20},\n",
        "    \"New Delhi\": {\"Gaziabad\": 20}\n",
        "}\n"
      ],
      "metadata": {
        "id": "alcBYNa7axro"
      },
      "execution_count": 10,
      "outputs": []
    },
    {
      "cell_type": "markdown",
      "source": [
        "# **Euclidean distance as Heuristic Function h(n)**"
      ],
      "metadata": {
        "id": "QNFEDT_zVYEk"
      }
    },
    {
      "cell_type": "code",
      "source": [
        "def heuristic(current_city, goal_city, cities_coordinates):\n",
        "    current_coords = cities_coordinates[current_city]\n",
        "    goal_coords = cities_coordinates[goal_city]\n",
        "    dist = math.sqrt((goal_coords[0] - current_coords[0]) ** 2 + (goal_coords[1] - current_coords[1]) ** 2)\n",
        "    return dist\n"
      ],
      "metadata": {
        "id": "S8JL9yWVa-rk"
      },
      "execution_count": 32,
      "outputs": []
    },
    {
      "cell_type": "markdown",
      "source": [
        "**Testing the heurstic function**"
      ],
      "metadata": {
        "id": "XSML_27bdYQP"
      }
    },
    {
      "cell_type": "code",
      "source": [
        "goal_city = \"New Delhi\"\n",
        "\n",
        "# Test the heuristic function for all cities against New Delhi\n",
        "for current_city in cities_coordinates.keys():\n",
        "    if current_city != goal_city:\n",
        "        calculated_distance = heuristic(current_city, goal_city, cities_coordinates)\n",
        "        print(f\"Heuristic distance from {current_city} to {goal_city}: {calculated_distance:.4f}\")\n"
      ],
      "metadata": {
        "id": "X0mz7AZ-mabJ",
        "outputId": "7668fe8e-c2a7-493b-98d3-597591655d14",
        "colab": {
          "base_uri": "https://localhost:8080/"
        }
      },
      "execution_count": 41,
      "outputs": [
        {
          "output_type": "stream",
          "name": "stdout",
          "text": [
            "Heuristic distance from Pune to New Delhi: 10.6393\n",
            "Heuristic distance from Nasik to New Delhi: 9.2701\n",
            "Heuristic distance from Dhule to New Delhi: 8.0858\n",
            "Heuristic distance from Jalgaon to New Delhi: 7.7855\n",
            "Heuristic distance from Goa to New Delhi: 13.6435\n",
            "Heuristic distance from Vapi to New Delhi: 9.2987\n",
            "Heuristic distance from Surat to New Delhi: 8.6357\n",
            "Heuristic distance from Vadodra to New Delhi: 7.4832\n",
            "Heuristic distance from Rajkot to New Delhi: 8.9924\n",
            "Heuristic distance from Indore to New Delhi: 6.0472\n",
            "Heuristic distance from Ajmer to New Delhi: 3.3590\n",
            "Heuristic distance from Kota to New Delhi: 3.6562\n",
            "Heuristic distance from Jodhpur to New Delhi: 4.8117\n",
            "Heuristic distance from Ujjain to New Delhi: 5.6181\n",
            "Heuristic distance from Udaipur to New Delhi: 5.3343\n",
            "Heuristic distance from Chittorghar to New Delhi: 4.5326\n",
            "Heuristic distance from Hisar to New Delhi: 1.5807\n",
            "Heuristic distance from Faridabad to New Delhi: 0.2321\n",
            "Heuristic distance from Gurugram to New Delhi: 0.2390\n",
            "Heuristic distance from Greater Noida to New Delhi: 0.3254\n",
            "Heuristic distance from Gaziabad to New Delhi: 0.2510\n"
          ]
        }
      ]
    },
    {
      "cell_type": "markdown",
      "source": [
        "# **Calculation of G(n)**"
      ],
      "metadata": {
        "id": "Ztou0DiLmGEk"
      }
    },
    {
      "cell_type": "code",
      "source": [
        "def calculate_g_cost(path, city_graph):\n",
        "    total_cost = 0\n",
        "    for i in range(len(path) - 1):\n",
        "        current_city = path[i]\n",
        "        next_city = path[i + 1]\n",
        "        total_cost += city_graph[current_city][next_city]\n",
        "    return total_cost"
      ],
      "metadata": {
        "id": "zIwOfAtzg7c6"
      },
      "execution_count": 33,
      "outputs": []
    },
    {
      "cell_type": "markdown",
      "source": [
        "# **Reconstruct Path**"
      ],
      "metadata": {
        "id": "5iJZNd2qlahe"
      }
    },
    {
      "cell_type": "code",
      "source": [
        "def reconstruct_path(came_from, current):\n",
        "    total_path = [current]\n",
        "    while current in came_from:\n",
        "        current = came_from[current]\n",
        "        total_path.append(current)\n",
        "    return total_path[::-1]  # Reverse the path"
      ],
      "metadata": {
        "id": "zDYGLfOrlaEk"
      },
      "execution_count": 34,
      "outputs": []
    },
    {
      "cell_type": "markdown",
      "source": [
        "# **Move Gen**"
      ],
      "metadata": {
        "id": "NrT7oJOfhQmY"
      }
    },
    {
      "cell_type": "code",
      "source": [
        "def movegen(city, city_graph):\n",
        "    return city_graph.get(city, {})"
      ],
      "metadata": {
        "id": "UjAe7ygRg7wA"
      },
      "execution_count": 24,
      "outputs": []
    },
    {
      "cell_type": "markdown",
      "source": [
        "# **A* Star Algorithm**"
      ],
      "metadata": {
        "id": "QhOsBspJhfwE"
      }
    },
    {
      "cell_type": "code",
      "source": [
        "def a_star(start_city, goal_city, cities_coordinates, city_graph):\n",
        "    open_set = []\n",
        "    heapq.heappush(open_set, (0, start_city))  # (f_cost, city)\n",
        "\n",
        "    came_from = {}\n",
        "\n",
        "    g_costs = {start_city: 0}\n",
        "    f_costs = {start_city: heuristic(start_city, goal_city, cities_coordinates)}\n",
        "\n",
        "    while open_set:\n",
        "        current_f_cost, current_city = heapq.heappop(open_set)\n",
        "\n",
        "        if current_city == goal_city:\n",
        "            path = reconstruct_path(came_from, current_city)\n",
        "            total_g_cost = calculate_g_cost(path, city_graph)\n",
        "            return path, total_g_cost\n",
        "\n",
        "        for neighbor, travel_cost in city_graph.get(current_city, {}).items():\n",
        "            tentative_g_cost = g_costs[current_city] + travel_cost\n",
        "\n",
        "            if neighbor not in g_costs or tentative_g_cost < g_costs[neighbor]:\n",
        "                came_from[neighbor] = current_city\n",
        "                g_costs[neighbor] = tentative_g_cost\n",
        "                f_costs[neighbor] = tentative_g_cost + heuristic(neighbor, goal_city, cities_coordinates)\n",
        "\n",
        "                if (f_costs[neighbor], neighbor) not in open_set:\n",
        "                    heapq.heappush(open_set, (f_costs[neighbor], neighbor))\n",
        "\n",
        "    return None, float('inf')"
      ],
      "metadata": {
        "id": "05qyUaYBhPj2"
      },
      "execution_count": 42,
      "outputs": []
    },
    {
      "cell_type": "markdown",
      "source": [
        "# **Finding the Route**"
      ],
      "metadata": {
        "id": "_3g5JqKMlkJV"
      }
    },
    {
      "cell_type": "code",
      "source": [
        "start_city = \"Pune\"\n",
        "goal_city = \"New Delhi\"\n",
        "\n",
        "path, total_cost = a_star(start_city, goal_city, cities_coordinates, city_graph)\n",
        "\n",
        "if path:\n",
        "    print(\"Route:\", \" -> \".join(path))\n",
        "    print(\"Total Cost:\", total_cost)\n",
        "else:\n",
        "    print(\"No path found.\")"
      ],
      "metadata": {
        "id": "d2A40WKbhjv5",
        "outputId": "5a3b3884-6057-44e6-d62b-93f6016aa66e",
        "colab": {
          "base_uri": "https://localhost:8080/"
        }
      },
      "execution_count": 43,
      "outputs": [
        {
          "output_type": "stream",
          "name": "stdout",
          "text": [
            "Route: Pune -> Goa -> Vapi -> Surat -> Vadodra -> Indore -> Kota -> Ajmer -> Jodhpur -> Udaipur -> Chittorghar -> Hisar -> Faridabad -> Gurugram -> Greater Noida -> Gaziabad -> New Delhi\n",
            "Total Cost: 1300\n"
          ]
        }
      ]
    }
  ]
}